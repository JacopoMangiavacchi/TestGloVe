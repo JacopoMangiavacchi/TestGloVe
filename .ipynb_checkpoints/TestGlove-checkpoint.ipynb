{
 "cells": [
  {
   "cell_type": "code",
   "execution_count": 4,
   "metadata": {},
   "outputs": [
    {
     "name": "stderr",
     "output_type": "stream",
     "text": [
      "/Users/jmangia/anaconda2/envs/SwiftNLC/lib/python2.7/site-packages/h5py/__init__.py:34: FutureWarning: Conversion of the second argument of issubdtype from `float` to `np.floating` is deprecated. In future, it will be treated as `np.float64 == np.dtype(float).type`.\n",
      "  from ._conv import register_converters as _register_converters\n",
      "Using TensorFlow backend.\n"
     ]
    }
   ],
   "source": [
    "from numpy import array\n",
    "from numpy import asarray\n",
    "from numpy import zeros\n",
    "from keras.preprocessing.text import Tokenizer\n",
    "from keras.preprocessing.sequence import pad_sequences\n",
    "from keras.models import Sequential\n",
    "from keras.layers import Dense\n",
    "from keras.layers import Flatten\n",
    "from keras.layers import Embedding"
   ]
  },
  {
   "cell_type": "code",
   "execution_count": 5,
   "metadata": {},
   "outputs": [],
   "source": [
    "# define documents\n",
    "docs = ['Well done!',\n",
    "        'Good work',\n",
    "        'Great effort',\n",
    "        'nice work',\n",
    "        'Excellent!',\n",
    "        'Weak',\n",
    "        'Poor effort!',\n",
    "        'not good',\n",
    "        'poor work',\n",
    "        'Could have done better.']\n",
    "# define class labels\n",
    "labels = array([1,1,1,1,1,0,0,0,0,0])"
   ]
  },
  {
   "cell_type": "code",
   "execution_count": 6,
   "metadata": {},
   "outputs": [],
   "source": [
    "# prepare tokenizer\n",
    "t = Tokenizer()\n",
    "t.fit_on_texts(docs)\n",
    "vocab_size = len(t.word_index) + 1"
   ]
  },
  {
   "cell_type": "code",
   "execution_count": 7,
   "metadata": {},
   "outputs": [
    {
     "name": "stdout",
     "output_type": "stream",
     "text": [
      "[[6, 2], [3, 1], [7, 4], [8, 1], [9], [10], [5, 4], [11, 3], [5, 1], [12, 13, 2, 14]]\n"
     ]
    }
   ],
   "source": [
    "# integer encode the documents\n",
    "encoded_docs = t.texts_to_sequences(docs)\n",
    "print(encoded_docs)"
   ]
  },
  {
   "cell_type": "code",
   "execution_count": 8,
   "metadata": {},
   "outputs": [
    {
     "name": "stdout",
     "output_type": "stream",
     "text": [
      "[[ 6  2  0  0]\n",
      " [ 3  1  0  0]\n",
      " [ 7  4  0  0]\n",
      " [ 8  1  0  0]\n",
      " [ 9  0  0  0]\n",
      " [10  0  0  0]\n",
      " [ 5  4  0  0]\n",
      " [11  3  0  0]\n",
      " [ 5  1  0  0]\n",
      " [12 13  2 14]]\n"
     ]
    }
   ],
   "source": [
    "# pad documents to a max length of 4 words\n",
    "max_length = 4\n",
    "padded_docs = pad_sequences(encoded_docs, maxlen=max_length, padding='post')\n",
    "print(padded_docs)"
   ]
  },
  {
   "cell_type": "code",
   "execution_count": 9,
   "metadata": {},
   "outputs": [
    {
     "name": "stdout",
     "output_type": "stream",
     "text": [
      "Loaded 400000 word vectors.\n"
     ]
    }
   ],
   "source": [
    "# load the whole embedding into memory\n",
    "embeddings_index = dict()\n",
    "f = open('glove/glove.6B.100d.txt')\n",
    "for line in f:\n",
    "\tvalues = line.split()\n",
    "\tword = values[0]\n",
    "\tcoefs = asarray(values[1:], dtype='float32')\n",
    "\tembeddings_index[word] = coefs\n",
    "f.close()\n",
    "print('Loaded %s word vectors.' % len(embeddings_index))"
   ]
  },
  {
   "cell_type": "code",
   "execution_count": 10,
   "metadata": {},
   "outputs": [],
   "source": [
    "# create a weight matrix for words in training docs\n",
    "embedding_matrix = zeros((vocab_size, 100))\n",
    "for word, i in t.word_index.items():\n",
    "\tembedding_vector = embeddings_index.get(word)\n",
    "\tif embedding_vector is not None:\n",
    "\t\tembedding_matrix[i] = embedding_vector"
   ]
  },
  {
   "cell_type": "code",
   "execution_count": 11,
   "metadata": {},
   "outputs": [
    {
     "name": "stdout",
     "output_type": "stream",
     "text": [
      "(15, 100)\n",
      "[[ 0.          0.          0.         ...  0.          0.\n",
      "   0.        ]\n",
      " [-0.11619     0.45447001 -0.69216001 ... -0.54737002  0.48822001\n",
      "   0.32246   ]\n",
      " [-0.2978      0.31147    -0.14937    ... -0.22709    -0.029261\n",
      "   0.4585    ]\n",
      " ...\n",
      " [ 0.05869     0.40272999  0.38633999 ... -0.35973999  0.43718001\n",
      "   0.10121   ]\n",
      " [ 0.15711001  0.65605998  0.0021149  ... -0.60614997  0.71004999\n",
      "   0.41468999]\n",
      " [-0.047543    0.51914001  0.34283999 ... -0.26859     0.48664999\n",
      "   0.55609   ]]\n"
     ]
    }
   ],
   "source": [
    "print(embedding_matrix.shape)\n",
    "print(embedding_matrix)"
   ]
  },
  {
   "cell_type": "code",
   "execution_count": 12,
   "metadata": {},
   "outputs": [],
   "source": [
    "# define model\n",
    "model = Sequential()\n",
    "e = Embedding(vocab_size, 100, weights=[embedding_matrix], input_length=4, trainable=False)\n",
    "model.add(e)\n",
    "model.add(Flatten())\n",
    "model.add(Dense(1, activation='sigmoid'))"
   ]
  },
  {
   "cell_type": "code",
   "execution_count": 13,
   "metadata": {},
   "outputs": [
    {
     "name": "stdout",
     "output_type": "stream",
     "text": [
      "_________________________________________________________________\n",
      "Layer (type)                 Output Shape              Param #   \n",
      "=================================================================\n",
      "embedding_1 (Embedding)      (None, 4, 100)            1500      \n",
      "_________________________________________________________________\n",
      "flatten_1 (Flatten)          (None, 400)               0         \n",
      "_________________________________________________________________\n",
      "dense_1 (Dense)              (None, 1)                 401       \n",
      "=================================================================\n",
      "Total params: 1,901\n",
      "Trainable params: 401\n",
      "Non-trainable params: 1,500\n",
      "_________________________________________________________________\n",
      "None\n"
     ]
    }
   ],
   "source": [
    "# compile the model\n",
    "model.compile(optimizer='adam', loss='binary_crossentropy', metrics=['acc'])\n",
    "# summarize the model\n",
    "print(model.summary())"
   ]
  },
  {
   "cell_type": "code",
   "execution_count": 14,
   "metadata": {},
   "outputs": [
    {
     "name": "stdout",
     "output_type": "stream",
     "text": [
      "Epoch 1/50\n",
      "10/10 [==============================] - 0s 11ms/step - loss: 0.6787 - acc: 0.5000\n",
      "Epoch 2/50\n",
      "10/10 [==============================] - 0s 141us/step - loss: 0.6675 - acc: 0.5000\n",
      "Epoch 3/50\n",
      "10/10 [==============================] - 0s 178us/step - loss: 0.6565 - acc: 0.5000\n",
      "Epoch 4/50\n",
      "10/10 [==============================] - 0s 148us/step - loss: 0.6458 - acc: 0.6000\n",
      "Epoch 5/50\n",
      "10/10 [==============================] - 0s 194us/step - loss: 0.6354 - acc: 0.6000\n",
      "Epoch 6/50\n",
      "10/10 [==============================] - 0s 197us/step - loss: 0.6252 - acc: 0.7000\n",
      "Epoch 7/50\n",
      "10/10 [==============================] - 0s 199us/step - loss: 0.6153 - acc: 0.7000\n",
      "Epoch 8/50\n",
      "10/10 [==============================] - 0s 183us/step - loss: 0.6057 - acc: 0.7000\n",
      "Epoch 9/50\n",
      "10/10 [==============================] - 0s 153us/step - loss: 0.5964 - acc: 0.7000\n",
      "Epoch 10/50\n",
      "10/10 [==============================] - 0s 202us/step - loss: 0.5873 - acc: 0.7000\n",
      "Epoch 11/50\n",
      "10/10 [==============================] - 0s 163us/step - loss: 0.5784 - acc: 0.7000\n",
      "Epoch 12/50\n",
      "10/10 [==============================] - 0s 223us/step - loss: 0.5697 - acc: 0.7000\n",
      "Epoch 13/50\n",
      "10/10 [==============================] - 0s 162us/step - loss: 0.5612 - acc: 0.7000\n",
      "Epoch 14/50\n",
      "10/10 [==============================] - 0s 230us/step - loss: 0.5530 - acc: 0.7000\n",
      "Epoch 15/50\n",
      "10/10 [==============================] - 0s 177us/step - loss: 0.5449 - acc: 0.7000\n",
      "Epoch 16/50\n",
      "10/10 [==============================] - 0s 163us/step - loss: 0.5370 - acc: 0.7000\n",
      "Epoch 17/50\n",
      "10/10 [==============================] - 0s 202us/step - loss: 0.5293 - acc: 0.7000\n",
      "Epoch 18/50\n",
      "10/10 [==============================] - 0s 166us/step - loss: 0.5218 - acc: 0.7000\n",
      "Epoch 19/50\n",
      "10/10 [==============================] - 0s 182us/step - loss: 0.5144 - acc: 0.7000\n",
      "Epoch 20/50\n",
      "10/10 [==============================] - 0s 190us/step - loss: 0.5072 - acc: 0.8000\n",
      "Epoch 21/50\n",
      "10/10 [==============================] - 0s 145us/step - loss: 0.5002 - acc: 0.8000\n",
      "Epoch 22/50\n",
      "10/10 [==============================] - 0s 169us/step - loss: 0.4932 - acc: 0.8000\n",
      "Epoch 23/50\n",
      "10/10 [==============================] - 0s 179us/step - loss: 0.4865 - acc: 0.9000\n",
      "Epoch 24/50\n",
      "10/10 [==============================] - 0s 167us/step - loss: 0.4798 - acc: 0.9000\n",
      "Epoch 25/50\n",
      "10/10 [==============================] - 0s 149us/step - loss: 0.4733 - acc: 0.9000\n",
      "Epoch 26/50\n",
      "10/10 [==============================] - 0s 214us/step - loss: 0.4669 - acc: 0.9000\n",
      "Epoch 27/50\n",
      "10/10 [==============================] - 0s 204us/step - loss: 0.4607 - acc: 0.9000\n",
      "Epoch 28/50\n",
      "10/10 [==============================] - 0s 188us/step - loss: 0.4545 - acc: 0.9000\n",
      "Epoch 29/50\n",
      "10/10 [==============================] - 0s 202us/step - loss: 0.4484 - acc: 0.9000\n",
      "Epoch 30/50\n",
      "10/10 [==============================] - 0s 178us/step - loss: 0.4424 - acc: 0.9000\n",
      "Epoch 31/50\n",
      "10/10 [==============================] - 0s 161us/step - loss: 0.4365 - acc: 0.9000\n",
      "Epoch 32/50\n",
      "10/10 [==============================] - 0s 176us/step - loss: 0.4308 - acc: 0.9000\n",
      "Epoch 33/50\n",
      "10/10 [==============================] - 0s 193us/step - loss: 0.4252 - acc: 0.9000\n",
      "Epoch 34/50\n",
      "10/10 [==============================] - 0s 182us/step - loss: 0.4197 - acc: 0.9000\n",
      "Epoch 35/50\n",
      "10/10 [==============================] - 0s 174us/step - loss: 0.4142 - acc: 0.9000\n",
      "Epoch 36/50\n",
      "10/10 [==============================] - 0s 173us/step - loss: 0.4089 - acc: 0.9000\n",
      "Epoch 37/50\n",
      "10/10 [==============================] - 0s 186us/step - loss: 0.4036 - acc: 1.0000\n",
      "Epoch 38/50\n",
      "10/10 [==============================] - 0s 167us/step - loss: 0.3985 - acc: 1.0000\n",
      "Epoch 39/50\n",
      "10/10 [==============================] - 0s 201us/step - loss: 0.3933 - acc: 1.0000\n",
      "Epoch 40/50\n",
      "10/10 [==============================] - 0s 191us/step - loss: 0.3883 - acc: 1.0000\n",
      "Epoch 41/50\n",
      "10/10 [==============================] - 0s 4ms/step - loss: 0.3834 - acc: 1.0000\n",
      "Epoch 42/50\n",
      "10/10 [==============================] - 0s 188us/step - loss: 0.3786 - acc: 1.0000\n",
      "Epoch 43/50\n",
      "10/10 [==============================] - 0s 213us/step - loss: 0.3738 - acc: 1.0000\n",
      "Epoch 44/50\n",
      "10/10 [==============================] - 0s 242us/step - loss: 0.3691 - acc: 1.0000\n",
      "Epoch 45/50\n",
      "10/10 [==============================] - 0s 192us/step - loss: 0.3645 - acc: 1.0000\n",
      "Epoch 46/50\n",
      "10/10 [==============================] - 0s 251us/step - loss: 0.3600 - acc: 1.0000\n",
      "Epoch 47/50\n",
      "10/10 [==============================] - 0s 229us/step - loss: 0.3555 - acc: 1.0000\n",
      "Epoch 48/50\n",
      "10/10 [==============================] - 0s 229us/step - loss: 0.3511 - acc: 1.0000\n",
      "Epoch 49/50\n",
      "10/10 [==============================] - 0s 214us/step - loss: 0.3468 - acc: 1.0000\n",
      "Epoch 50/50\n",
      "10/10 [==============================] - 0s 229us/step - loss: 0.3426 - acc: 1.0000\n"
     ]
    },
    {
     "data": {
      "text/plain": [
       "<keras.callbacks.History at 0x11048a850>"
      ]
     },
     "execution_count": 14,
     "metadata": {},
     "output_type": "execute_result"
    }
   ],
   "source": [
    "# fit the model\n",
    "model.fit(padded_docs, labels, epochs=50, verbose=1)"
   ]
  },
  {
   "cell_type": "code",
   "execution_count": 15,
   "metadata": {},
   "outputs": [
    {
     "name": "stdout",
     "output_type": "stream",
     "text": [
      "Accuracy: 100.000000\n"
     ]
    }
   ],
   "source": [
    "# evaluate the model\n",
    "loss, accuracy = model.evaluate(padded_docs, labels, verbose=0)\n",
    "print('Accuracy: %f' % (accuracy*100))"
   ]
  },
  {
   "cell_type": "code",
   "execution_count": 16,
   "metadata": {},
   "outputs": [
    {
     "name": "stdout",
     "output_type": "stream",
     "text": [
      "_________________________________________________________________\n",
      "Layer (type)                 Output Shape              Param #   \n",
      "=================================================================\n",
      "embedding_1 (Embedding)      (None, 4, 100)            1500      \n",
      "_________________________________________________________________\n",
      "flatten_1 (Flatten)          (None, 400)               0         \n",
      "_________________________________________________________________\n",
      "dense_1 (Dense)              (None, 1)                 401       \n",
      "=================================================================\n",
      "Total params: 1,901\n",
      "Trainable params: 401\n",
      "Non-trainable params: 1,500\n",
      "_________________________________________________________________\n"
     ]
    }
   ],
   "source": [
    "model.summary()"
   ]
  },
  {
   "cell_type": "code",
   "execution_count": 17,
   "metadata": {},
   "outputs": [
    {
     "name": "stdout",
     "output_type": "stream",
     "text": [
      "[[0.62163186]\n",
      " [0.72402626]\n",
      " [0.69156706]\n",
      " [0.795892  ]\n",
      " [0.69939846]\n",
      " [0.21752124]\n",
      " [0.33696893]\n",
      " [0.29467344]\n",
      " [0.44551077]\n",
      " [0.03579354]]\n",
      "['Well done!', 'Good work', 'Great effort', 'nice work', 'Excellent!', 'Weak', 'Poor effort!', 'not good', 'poor work', 'Could have done better.']\n",
      "[1 1 1 1 1 0 0 0 0 0]\n"
     ]
    }
   ],
   "source": [
    "# test prediction\n",
    "test = array([[ 6,  2,  0,  0],\n",
    "              [ 3,  1,  0,  0],\n",
    "              [ 7,  4,  0,  0],\n",
    "              [ 8,  1,  0,  0],\n",
    "              [ 9,  0,  0,  0],\n",
    "              [10,  0,  0,  0],\n",
    "              [ 5,  4,  0,  0],\n",
    "              [11,  3,  0,  0],\n",
    "              [ 5,  1,  0,  0],\n",
    "              [12, 13,  2, 14]])\n",
    "\n",
    "y_pred = model.predict(test)\n",
    "print(y_pred)\n",
    "print(docs)\n",
    "print(labels)"
   ]
  },
  {
   "cell_type": "code",
   "execution_count": 18,
   "metadata": {},
   "outputs": [],
   "source": [
    "# save model\n",
    "model.save('model.h5')"
   ]
  },
  {
   "cell_type": "code",
   "execution_count": 19,
   "metadata": {},
   "outputs": [
    {
     "name": "stderr",
     "output_type": "stream",
     "text": [
      "WARNING:root:Keras version 2.1.5 detected. Last version known to be fully compatible of Keras is 2.1.3 .\n",
      "WARNING:root:TensorFlow version 1.6.0 detected. Last version known to be fully compatible is 1.5.0 .\n"
     ]
    },
    {
     "name": "stdout",
     "output_type": "stream",
     "text": [
      "0 : embedding_1_input, <keras.engine.topology.InputLayer object at 0x124978ed0>\n",
      "1 : embedding_1, <keras.layers.embeddings.Embedding object at 0x124978d50>\n",
      "2 : flatten_1, <keras.layers.core.Flatten object at 0x12a3a6dd0>\n",
      "3 : dense_1, <keras.layers.core.Dense object at 0x12a3a6f50>\n",
      "4 : dense_1__activation__, <keras.layers.core.Activation object at 0x12ae20450>\n"
     ]
    }
   ],
   "source": [
    "# export coreml\n",
    "import coremltools\n",
    "coreml_model = coremltools.converters.keras.convert(model)\n",
    "coreml_model.save('model.mlmodel')"
   ]
  },
  {
   "cell_type": "code",
   "execution_count": 20,
   "metadata": {},
   "outputs": [
    {
     "data": {
      "text/plain": [
       "input {\n",
       "  name: \"input1\"\n",
       "  type {\n",
       "    multiArrayType {\n",
       "      shape: 1\n",
       "      dataType: DOUBLE\n",
       "    }\n",
       "  }\n",
       "}\n",
       "output {\n",
       "  name: \"output1\"\n",
       "  type {\n",
       "    multiArrayType {\n",
       "      shape: 1\n",
       "      dataType: DOUBLE\n",
       "    }\n",
       "  }\n",
       "}"
      ]
     },
     "execution_count": 20,
     "metadata": {},
     "output_type": "execute_result"
    }
   ],
   "source": [
    "# dump coreml\n",
    "coreml_model"
   ]
  },
  {
   "cell_type": "code",
   "execution_count": 30,
   "metadata": {},
   "outputs": [
    {
     "ename": "RuntimeError",
     "evalue": "{\n    NSLocalizedDescription = \"Input input1 is an array of rank 2, but this model only supports single vector inputs (rank 1) or a sequence of batches of vectors (rank 3).\";\n}",
     "output_type": "error",
     "traceback": [
      "\u001b[0;31m---------------------------------------------------------------------------\u001b[0m",
      "\u001b[0;31mRuntimeError\u001b[0m                              Traceback (most recent call last)",
      "\u001b[0;32m<ipython-input-30-5549caa37864>\u001b[0m in \u001b[0;36m<module>\u001b[0;34m()\u001b[0m\n\u001b[1;32m      1\u001b[0m \u001b[0;31m# Make predictions\u001b[0m\u001b[0;34m\u001b[0m\u001b[0;34m\u001b[0m\u001b[0m\n\u001b[0;32m----> 2\u001b[0;31m \u001b[0mpredictions\u001b[0m \u001b[0;34m=\u001b[0m \u001b[0mcoreml_model\u001b[0m\u001b[0;34m.\u001b[0m\u001b[0mpredict\u001b[0m\u001b[0;34m(\u001b[0m\u001b[0;34m{\u001b[0m\u001b[0;34m'input1'\u001b[0m\u001b[0;34m:\u001b[0m \u001b[0;34m[\u001b[0m\u001b[0;34m[\u001b[0m\u001b[0;36m6.0\u001b[0m\u001b[0;34m,\u001b[0m  \u001b[0;36m2.0\u001b[0m\u001b[0;34m,\u001b[0m  \u001b[0;36m0.0\u001b[0m\u001b[0;34m,\u001b[0m  \u001b[0;36m0.0\u001b[0m\u001b[0;34m]\u001b[0m\u001b[0;34m]\u001b[0m \u001b[0;34m}\u001b[0m\u001b[0;34m)\u001b[0m\u001b[0;34m\u001b[0m\u001b[0m\n\u001b[0m",
      "\u001b[0;32m/Users/jmangia/anaconda2/envs/SwiftNLC/lib/python2.7/site-packages/coremltools/models/model.pyc\u001b[0m in \u001b[0;36mpredict\u001b[0;34m(self, data, useCPUOnly, **kwargs)\u001b[0m\n\u001b[1;32m    262\u001b[0m \u001b[0;34m\u001b[0m\u001b[0m\n\u001b[1;32m    263\u001b[0m         \u001b[0;32mif\u001b[0m \u001b[0mself\u001b[0m\u001b[0;34m.\u001b[0m\u001b[0m__proxy__\u001b[0m\u001b[0;34m:\u001b[0m\u001b[0;34m\u001b[0m\u001b[0m\n\u001b[0;32m--> 264\u001b[0;31m             \u001b[0;32mreturn\u001b[0m \u001b[0mself\u001b[0m\u001b[0;34m.\u001b[0m\u001b[0m__proxy__\u001b[0m\u001b[0;34m.\u001b[0m\u001b[0mpredict\u001b[0m\u001b[0;34m(\u001b[0m\u001b[0mdata\u001b[0m\u001b[0;34m,\u001b[0m\u001b[0museCPUOnly\u001b[0m\u001b[0;34m)\u001b[0m\u001b[0;34m\u001b[0m\u001b[0m\n\u001b[0m\u001b[1;32m    265\u001b[0m         \u001b[0;32melse\u001b[0m\u001b[0;34m:\u001b[0m\u001b[0;34m\u001b[0m\u001b[0m\n\u001b[1;32m    266\u001b[0m             \u001b[0;32mif\u001b[0m \u001b[0m_macos_version\u001b[0m\u001b[0;34m(\u001b[0m\u001b[0;34m)\u001b[0m \u001b[0;34m<\u001b[0m \u001b[0;34m(\u001b[0m\u001b[0;36m10\u001b[0m\u001b[0;34m,\u001b[0m \u001b[0;36m13\u001b[0m\u001b[0;34m)\u001b[0m\u001b[0;34m:\u001b[0m\u001b[0;34m\u001b[0m\u001b[0m\n",
      "\u001b[0;31mRuntimeError\u001b[0m: {\n    NSLocalizedDescription = \"Input input1 is an array of rank 2, but this model only supports single vector inputs (rank 1) or a sequence of batches of vectors (rank 3).\";\n}"
     ]
    }
   ],
   "source": [
    "# Make predictions\n",
    "predictions = coreml_model.predict({'input1': [[6.0,  2.0,  0.0,  0.0]] })"
   ]
  },
  {
   "cell_type": "code",
   "execution_count": null,
   "metadata": {},
   "outputs": [],
   "source": []
  }
 ],
 "metadata": {
  "kernelspec": {
   "display_name": "Python 2",
   "language": "python",
   "name": "python2"
  },
  "language_info": {
   "codemirror_mode": {
    "name": "ipython",
    "version": 2
   },
   "file_extension": ".py",
   "mimetype": "text/x-python",
   "name": "python",
   "nbconvert_exporter": "python",
   "pygments_lexer": "ipython2",
   "version": "2.7.14"
  }
 },
 "nbformat": 4,
 "nbformat_minor": 2
}
