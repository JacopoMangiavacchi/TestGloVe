{
 "cells": [
  {
   "cell_type": "code",
   "execution_count": 1,
   "metadata": {},
   "outputs": [
    {
     "name": "stderr",
     "output_type": "stream",
     "text": [
      "/Users/jmangia/anaconda2/envs/SwiftNLC/lib/python2.7/site-packages/h5py/__init__.py:34: FutureWarning: Conversion of the second argument of issubdtype from `float` to `np.floating` is deprecated. In future, it will be treated as `np.float64 == np.dtype(float).type`.\n",
      "  from ._conv import register_converters as _register_converters\n",
      "Using TensorFlow backend.\n"
     ]
    }
   ],
   "source": [
    "from numpy import array\n",
    "from numpy import asarray\n",
    "from numpy import zeros\n",
    "from keras.preprocessing.text import Tokenizer\n",
    "from keras.preprocessing.sequence import pad_sequences\n",
    "from keras.models import Sequential\n",
    "from keras.layers import Dense\n",
    "from keras.layers import Flatten\n",
    "from keras.layers import Embedding"
   ]
  },
  {
   "cell_type": "code",
   "execution_count": 2,
   "metadata": {},
   "outputs": [],
   "source": [
    "# define documents\n",
    "docs = ['Well done!',\n",
    "        'Good work',\n",
    "        'Great effort',\n",
    "        'nice work',\n",
    "        'Excellent!',\n",
    "        'Weak',\n",
    "        'Poor effort!',\n",
    "        'not good',\n",
    "        'poor work',\n",
    "        'Could have done better.']\n",
    "# define class labels\n",
    "labels = array([1,1,1,1,1,0,0,0,0,0])"
   ]
  },
  {
   "cell_type": "code",
   "execution_count": 3,
   "metadata": {},
   "outputs": [],
   "source": [
    "# prepare tokenizer\n",
    "t = Tokenizer()\n",
    "t.fit_on_texts(docs)\n",
    "vocab_size = len(t.word_index) + 1"
   ]
  },
  {
   "cell_type": "code",
   "execution_count": 4,
   "metadata": {},
   "outputs": [
    {
     "name": "stdout",
     "output_type": "stream",
     "text": [
      "[[6, 2], [3, 1], [7, 4], [8, 1], [9], [10], [5, 4], [11, 3], [5, 1], [12, 13, 2, 14]]\n"
     ]
    }
   ],
   "source": [
    "# integer encode the documents\n",
    "encoded_docs = t.texts_to_sequences(docs)\n",
    "print(encoded_docs)"
   ]
  },
  {
   "cell_type": "code",
   "execution_count": 5,
   "metadata": {},
   "outputs": [
    {
     "name": "stdout",
     "output_type": "stream",
     "text": [
      "[[ 6  2  0  0]\n",
      " [ 3  1  0  0]\n",
      " [ 7  4  0  0]\n",
      " [ 8  1  0  0]\n",
      " [ 9  0  0  0]\n",
      " [10  0  0  0]\n",
      " [ 5  4  0  0]\n",
      " [11  3  0  0]\n",
      " [ 5  1  0  0]\n",
      " [12 13  2 14]]\n"
     ]
    }
   ],
   "source": [
    "# pad documents to a max length of 4 words\n",
    "max_length = 4\n",
    "padded_docs = pad_sequences(encoded_docs, maxlen=max_length, padding='post')\n",
    "print(padded_docs)"
   ]
  },
  {
   "cell_type": "code",
   "execution_count": 6,
   "metadata": {},
   "outputs": [
    {
     "name": "stdout",
     "output_type": "stream",
     "text": [
      "Loaded 400000 word vectors.\n"
     ]
    }
   ],
   "source": [
    "# load the whole embedding into memory\n",
    "embeddings_index = dict()\n",
    "f = open('glove/glove.6B.100d.txt')\n",
    "for line in f:\n",
    "\tvalues = line.split()\n",
    "\tword = values[0]\n",
    "\tcoefs = asarray(values[1:], dtype='float32')\n",
    "\tembeddings_index[word] = coefs\n",
    "f.close()\n",
    "print('Loaded %s word vectors.' % len(embeddings_index))"
   ]
  },
  {
   "cell_type": "code",
   "execution_count": 7,
   "metadata": {},
   "outputs": [],
   "source": [
    "# create a weight matrix for words in training docs\n",
    "embedding_matrix = zeros((vocab_size, 100))\n",
    "for word, i in t.word_index.items():\n",
    "\tembedding_vector = embeddings_index.get(word)\n",
    "\tif embedding_vector is not None:\n",
    "\t\tembedding_matrix[i] = embedding_vector"
   ]
  },
  {
   "cell_type": "code",
   "execution_count": 8,
   "metadata": {},
   "outputs": [],
   "source": [
    "# define model\n",
    "model = Sequential()\n",
    "e = Embedding(vocab_size, 100, weights=[embedding_matrix], input_length=4, trainable=False)\n",
    "model.add(e)\n",
    "model.add(Flatten())\n",
    "model.add(Dense(1, activation='sigmoid'))"
   ]
  },
  {
   "cell_type": "code",
   "execution_count": 9,
   "metadata": {},
   "outputs": [
    {
     "name": "stdout",
     "output_type": "stream",
     "text": [
      "_________________________________________________________________\n",
      "Layer (type)                 Output Shape              Param #   \n",
      "=================================================================\n",
      "embedding_1 (Embedding)      (None, 4, 100)            1500      \n",
      "_________________________________________________________________\n",
      "flatten_1 (Flatten)          (None, 400)               0         \n",
      "_________________________________________________________________\n",
      "dense_1 (Dense)              (None, 1)                 401       \n",
      "=================================================================\n",
      "Total params: 1,901\n",
      "Trainable params: 401\n",
      "Non-trainable params: 1,500\n",
      "_________________________________________________________________\n",
      "None\n"
     ]
    }
   ],
   "source": [
    "# compile the model\n",
    "model.compile(optimizer='adam', loss='binary_crossentropy', metrics=['acc'])\n",
    "# summarize the model\n",
    "print(model.summary())"
   ]
  },
  {
   "cell_type": "code",
   "execution_count": 12,
   "metadata": {},
   "outputs": [
    {
     "name": "stdout",
     "output_type": "stream",
     "text": [
      "Epoch 1/50\n",
      "10/10 [==============================] - 0s 232us/step - loss: 0.1958 - acc: 1.0000\n",
      "Epoch 2/50\n",
      "10/10 [==============================] - 0s 185us/step - loss: 0.1939 - acc: 1.0000\n",
      "Epoch 3/50\n",
      "10/10 [==============================] - 0s 209us/step - loss: 0.1921 - acc: 1.0000\n",
      "Epoch 4/50\n",
      "10/10 [==============================] - 0s 209us/step - loss: 0.1902 - acc: 1.0000\n",
      "Epoch 5/50\n",
      "10/10 [==============================] - 0s 237us/step - loss: 0.1884 - acc: 1.0000\n",
      "Epoch 6/50\n",
      "10/10 [==============================] - 0s 231us/step - loss: 0.1866 - acc: 1.0000\n",
      "Epoch 7/50\n",
      "10/10 [==============================] - 0s 172us/step - loss: 0.1849 - acc: 1.0000\n",
      "Epoch 8/50\n",
      "10/10 [==============================] - 0s 284us/step - loss: 0.1831 - acc: 1.0000\n",
      "Epoch 9/50\n",
      "10/10 [==============================] - 0s 215us/step - loss: 0.1814 - acc: 1.0000\n",
      "Epoch 10/50\n",
      "10/10 [==============================] - 0s 231us/step - loss: 0.1797 - acc: 1.0000\n",
      "Epoch 11/50\n",
      "10/10 [==============================] - 0s 200us/step - loss: 0.1781 - acc: 1.0000\n",
      "Epoch 12/50\n",
      "10/10 [==============================] - 0s 229us/step - loss: 0.1764 - acc: 1.0000\n",
      "Epoch 13/50\n",
      "10/10 [==============================] - 0s 266us/step - loss: 0.1748 - acc: 1.0000\n",
      "Epoch 14/50\n",
      "10/10 [==============================] - 0s 215us/step - loss: 0.1732 - acc: 1.0000\n",
      "Epoch 15/50\n",
      "10/10 [==============================] - 0s 198us/step - loss: 0.1716 - acc: 1.0000\n",
      "Epoch 16/50\n",
      "10/10 [==============================] - 0s 210us/step - loss: 0.1701 - acc: 1.0000\n",
      "Epoch 17/50\n",
      "10/10 [==============================] - 0s 229us/step - loss: 0.1685 - acc: 1.0000\n",
      "Epoch 18/50\n",
      "10/10 [==============================] - 0s 221us/step - loss: 0.1670 - acc: 1.0000\n",
      "Epoch 19/50\n",
      "10/10 [==============================] - 0s 222us/step - loss: 0.1655 - acc: 1.0000\n",
      "Epoch 20/50\n",
      "10/10 [==============================] - 0s 185us/step - loss: 0.1641 - acc: 1.0000\n",
      "Epoch 21/50\n",
      "10/10 [==============================] - 0s 240us/step - loss: 0.1626 - acc: 1.0000\n",
      "Epoch 22/50\n",
      "10/10 [==============================] - 0s 201us/step - loss: 0.1612 - acc: 1.0000\n",
      "Epoch 23/50\n",
      "10/10 [==============================] - 0s 202us/step - loss: 0.1598 - acc: 1.0000\n",
      "Epoch 24/50\n",
      "10/10 [==============================] - 0s 193us/step - loss: 0.1584 - acc: 1.0000\n",
      "Epoch 25/50\n",
      "10/10 [==============================] - 0s 221us/step - loss: 0.1570 - acc: 1.0000\n",
      "Epoch 26/50\n",
      "10/10 [==============================] - 0s 206us/step - loss: 0.1556 - acc: 1.0000\n",
      "Epoch 27/50\n",
      "10/10 [==============================] - 0s 194us/step - loss: 0.1543 - acc: 1.0000\n",
      "Epoch 28/50\n",
      "10/10 [==============================] - 0s 212us/step - loss: 0.1530 - acc: 1.0000\n",
      "Epoch 29/50\n",
      "10/10 [==============================] - 0s 160us/step - loss: 0.1517 - acc: 1.0000\n",
      "Epoch 30/50\n",
      "10/10 [==============================] - 0s 171us/step - loss: 0.1504 - acc: 1.0000\n",
      "Epoch 31/50\n",
      "10/10 [==============================] - 0s 175us/step - loss: 0.1491 - acc: 1.0000\n",
      "Epoch 32/50\n",
      "10/10 [==============================] - 0s 206us/step - loss: 0.1479 - acc: 1.0000\n",
      "Epoch 33/50\n",
      "10/10 [==============================] - 0s 183us/step - loss: 0.1466 - acc: 1.0000\n",
      "Epoch 34/50\n",
      "10/10 [==============================] - 0s 185us/step - loss: 0.1454 - acc: 1.0000\n",
      "Epoch 35/50\n",
      "10/10 [==============================] - 0s 198us/step - loss: 0.1442 - acc: 1.0000\n",
      "Epoch 36/50\n",
      "10/10 [==============================] - 0s 213us/step - loss: 0.1430 - acc: 1.0000\n",
      "Epoch 37/50\n",
      "10/10 [==============================] - 0s 193us/step - loss: 0.1418 - acc: 1.0000\n",
      "Epoch 38/50\n",
      "10/10 [==============================] - 0s 198us/step - loss: 0.1407 - acc: 1.0000\n",
      "Epoch 39/50\n",
      "10/10 [==============================] - 0s 204us/step - loss: 0.1395 - acc: 1.0000\n",
      "Epoch 40/50\n",
      "10/10 [==============================] - 0s 210us/step - loss: 0.1384 - acc: 1.0000\n",
      "Epoch 41/50\n",
      "10/10 [==============================] - 0s 189us/step - loss: 0.1372 - acc: 1.0000\n",
      "Epoch 42/50\n",
      "10/10 [==============================] - 0s 179us/step - loss: 0.1361 - acc: 1.0000\n",
      "Epoch 43/50\n",
      "10/10 [==============================] - 0s 208us/step - loss: 0.1351 - acc: 1.0000\n",
      "Epoch 44/50\n",
      "10/10 [==============================] - 0s 197us/step - loss: 0.1340 - acc: 1.0000\n",
      "Epoch 45/50\n",
      "10/10 [==============================] - 0s 184us/step - loss: 0.1329 - acc: 1.0000\n",
      "Epoch 46/50\n",
      "10/10 [==============================] - 0s 5ms/step - loss: 0.1319 - acc: 1.0000\n",
      "Epoch 47/50\n",
      "10/10 [==============================] - 0s 269us/step - loss: 0.1308 - acc: 1.0000\n",
      "Epoch 48/50\n",
      "10/10 [==============================] - 0s 269us/step - loss: 0.1298 - acc: 1.0000\n",
      "Epoch 49/50\n",
      "10/10 [==============================] - 0s 221us/step - loss: 0.1288 - acc: 1.0000\n",
      "Epoch 50/50\n",
      "10/10 [==============================] - 0s 230us/step - loss: 0.1278 - acc: 1.0000\n"
     ]
    },
    {
     "data": {
      "text/plain": [
       "<keras.callbacks.History at 0x11eaa6950>"
      ]
     },
     "execution_count": 12,
     "metadata": {},
     "output_type": "execute_result"
    }
   ],
   "source": [
    "# fit the model\n",
    "model.fit(padded_docs, labels, epochs=50, verbose=1)"
   ]
  },
  {
   "cell_type": "code",
   "execution_count": 13,
   "metadata": {},
   "outputs": [
    {
     "name": "stdout",
     "output_type": "stream",
     "text": [
      "Accuracy: 100.000000\n"
     ]
    }
   ],
   "source": [
    "# evaluate the model\n",
    "loss, accuracy = model.evaluate(padded_docs, labels, verbose=0)\n",
    "print('Accuracy: %f' % (accuracy*100))"
   ]
  },
  {
   "cell_type": "code",
   "execution_count": 14,
   "metadata": {},
   "outputs": [
    {
     "name": "stdout",
     "output_type": "stream",
     "text": [
      "_________________________________________________________________\n",
      "Layer (type)                 Output Shape              Param #   \n",
      "=================================================================\n",
      "embedding_1 (Embedding)      (None, 4, 100)            1500      \n",
      "_________________________________________________________________\n",
      "flatten_1 (Flatten)          (None, 400)               0         \n",
      "_________________________________________________________________\n",
      "dense_1 (Dense)              (None, 1)                 401       \n",
      "=================================================================\n",
      "Total params: 1,901\n",
      "Trainable params: 401\n",
      "Non-trainable params: 1,500\n",
      "_________________________________________________________________\n"
     ]
    }
   ],
   "source": [
    "model.summary()"
   ]
  },
  {
   "cell_type": "code",
   "execution_count": 18,
   "metadata": {},
   "outputs": [
    {
     "name": "stdout",
     "output_type": "stream",
     "text": [
      "[[0.83540314]\n",
      " [0.897266  ]\n",
      " [0.9012979 ]\n",
      " [0.90883225]\n",
      " [0.83869994]\n",
      " [0.11772853]\n",
      " [0.10637807]\n",
      " [0.16841738]\n",
      " [0.14953981]\n",
      " [0.0196906 ]]\n"
     ]
    }
   ],
   "source": [
    "# test prediction\n",
    "test = array([[ 6,  2,  0,  0],\n",
    "              [ 3,  1,  0,  0],\n",
    "              [ 7,  4,  0,  0],\n",
    "              [ 8,  1,  0,  0],\n",
    "              [ 9,  0,  0,  0],\n",
    "              [10,  0,  0,  0],\n",
    "              [ 5,  4,  0,  0],\n",
    "              [11,  3,  0,  0],\n",
    "              [ 5,  1,  0,  0],\n",
    "              [12, 13,  2, 14]])\n",
    "\n",
    "y_pred = model.predict(test)\n",
    "print(y_pred)"
   ]
  },
  {
   "cell_type": "code",
   "execution_count": null,
   "metadata": {},
   "outputs": [],
   "source": [
    "# save model\n",
    "model.save('model.h5')"
   ]
  },
  {
   "cell_type": "code",
   "execution_count": null,
   "metadata": {},
   "outputs": [],
   "source": [
    "# export coreml\n",
    "import coremltools\n",
    "coreml_model = coremltools.converters.keras.convert(model)\n",
    "coreml_model.save('model.mlmodel')"
   ]
  },
  {
   "cell_type": "code",
   "execution_count": null,
   "metadata": {},
   "outputs": [],
   "source": [
    "# dump coreml\n",
    "coreml_model"
   ]
  },
  {
   "cell_type": "code",
   "execution_count": null,
   "metadata": {},
   "outputs": [],
   "source": []
  }
 ],
 "metadata": {
  "kernelspec": {
   "display_name": "Python 2",
   "language": "python",
   "name": "python2"
  },
  "language_info": {
   "codemirror_mode": {
    "name": "ipython",
    "version": 2
   },
   "file_extension": ".py",
   "mimetype": "text/x-python",
   "name": "python",
   "nbconvert_exporter": "python",
   "pygments_lexer": "ipython2",
   "version": "2.7.14"
  }
 },
 "nbformat": 4,
 "nbformat_minor": 2
}
