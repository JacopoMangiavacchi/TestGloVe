{
 "cells": [
  {
   "cell_type": "code",
   "execution_count": 1,
   "metadata": {},
   "outputs": [
    {
     "name": "stderr",
     "output_type": "stream",
     "text": [
      "/Users/jmangia/anaconda2/envs/SwiftNLC/lib/python2.7/site-packages/h5py/__init__.py:34: FutureWarning: Conversion of the second argument of issubdtype from `float` to `np.floating` is deprecated. In future, it will be treated as `np.float64 == np.dtype(float).type`.\n",
      "  from ._conv import register_converters as _register_converters\n",
      "Using TensorFlow backend.\n"
     ]
    }
   ],
   "source": [
    "from numpy import array\n",
    "from numpy import asarray\n",
    "from numpy import zeros\n",
    "import numpy as np\n",
    "from keras.preprocessing.text import Tokenizer\n",
    "from keras.preprocessing.sequence import pad_sequences\n",
    "from keras.models import Sequential\n",
    "from keras.layers import Dense\n",
    "from keras.layers import Flatten\n",
    "from keras.layers import Embedding"
   ]
  },
  {
   "cell_type": "code",
   "execution_count": 2,
   "metadata": {},
   "outputs": [],
   "source": [
    "# Prepare Glove File\n",
    "def readGloveFile(gloveFile):\n",
    "    with open(gloveFile, 'r') as f:\n",
    "        wordToGlove = {}  # map from a token (word) to a Glove embedding vector\n",
    "        wordToIndex = {}  # map from a token to an index\n",
    "        indexToWord = {}  # map from an index to a token \n",
    "\n",
    "        for line in f:\n",
    "            record = line.strip().split()\n",
    "            token = record[0] # take the token (word) from the text line\n",
    "            wordToGlove[token] = np.array(record[1:], dtype=np.float64) # associate the Glove embedding vector to a that token (word)\n",
    "\n",
    "        tokens = sorted(wordToGlove.keys())\n",
    "        for idx, tok in enumerate(tokens):\n",
    "            kerasIdx = idx + 1  # 0 is reserved for masking in Keras (see above)\n",
    "            wordToIndex[tok] = kerasIdx # associate an index to a token (word)\n",
    "            indexToWord[kerasIdx] = tok # associate a word to a token (word). Note: inverse of dictionary above\n",
    "\n",
    "    return wordToIndex, indexToWord, wordToGlove"
   ]
  },
  {
   "cell_type": "code",
   "execution_count": 20,
   "metadata": {},
   "outputs": [],
   "source": [
    "# Create Pretrained Keras Embedding Layer\n",
    "def createPretrainedEmbeddingLayer(wordToGlove, wordToIndex, inputLength, isTrainable):\n",
    "    vocabLen = len(wordToIndex) + 1  # adding 1 to account for masking\n",
    "    embDim = next(iter(wordToGlove.values())).shape[0]  # works with any glove dimensions (e.g. 50)\n",
    "\n",
    "    print(embDim)\n",
    "    \n",
    "    embeddingMatrix = np.zeros((vocabLen, embDim))  # initialize with zeros\n",
    "    for word, index in wordToIndex.items():\n",
    "        embeddingMatrix[index, :] = wordToGlove[word] # create embedding: word index to Glove word embedding\n",
    "\n",
    "    embeddingLayer = Embedding(vocabLen, embDim, weights=[embeddingMatrix], input_length=inputLength, trainable=isTrainable)\n",
    "    return embeddingLayer\n"
   ]
  },
  {
   "cell_type": "code",
   "execution_count": 21,
   "metadata": {},
   "outputs": [
    {
     "name": "stdout",
     "output_type": "stream",
     "text": [
      "100\n"
     ]
    }
   ],
   "source": [
    "# usage\n",
    "wordToIndex, indexToWord, wordToGlove = readGloveFile(\"glove/glove.6B.100d.txt\")\n",
    "pretrainedEmbeddingLayer = createPretrainedEmbeddingLayer(wordToGlove, wordToIndex, 4, False)\n",
    "#model = Sequential()\n",
    "#model.add(pretrainedEmbeddingLayer)"
   ]
  },
  {
   "cell_type": "code",
   "execution_count": 22,
   "metadata": {},
   "outputs": [
    {
     "name": "stdout",
     "output_type": "stream",
     "text": [
      "400000\n",
      "385218\n"
     ]
    }
   ],
   "source": [
    "print(len(wordToIndex))\n",
    "print(wordToIndex[\"well\"])"
   ]
  },
  {
   "cell_type": "code",
   "execution_count": 23,
   "metadata": {},
   "outputs": [],
   "source": [
    "# define documents\n",
    "docs = ['Well done!',\n",
    "        'Good work',\n",
    "        'Great effort',\n",
    "        'nice work',\n",
    "        'Excellent!',\n",
    "        'Weak',\n",
    "        'Poor effort!',\n",
    "        'not good',\n",
    "        'poor work',\n",
    "        'Could have done better.']\n",
    "# define class labels\n",
    "labels = array([1,1,1,1,1,0,0,0,0,0])"
   ]
  },
  {
   "cell_type": "code",
   "execution_count": 24,
   "metadata": {},
   "outputs": [],
   "source": [
    "# prepare tokenizer\n",
    "t = Tokenizer()\n",
    "t.fit_on_texts(docs)\n",
    "vocab_size = len(t.word_index) + 1"
   ]
  },
  {
   "cell_type": "code",
   "execution_count": 25,
   "metadata": {},
   "outputs": [
    {
     "name": "stdout",
     "output_type": "stream",
     "text": [
      "[[6, 2], [3, 1], [7, 4], [8, 1], [9], [10], [5, 4], [11, 3], [5, 1], [12, 13, 2, 14]]\n"
     ]
    }
   ],
   "source": [
    "# integer encode the documents\n",
    "encoded_docs = t.texts_to_sequences(docs)\n",
    "print(encoded_docs)"
   ]
  },
  {
   "cell_type": "code",
   "execution_count": 26,
   "metadata": {},
   "outputs": [
    {
     "name": "stdout",
     "output_type": "stream",
     "text": [
      "[[ 6  2  0  0]\n",
      " [ 3  1  0  0]\n",
      " [ 7  4  0  0]\n",
      " [ 8  1  0  0]\n",
      " [ 9  0  0  0]\n",
      " [10  0  0  0]\n",
      " [ 5  4  0  0]\n",
      " [11  3  0  0]\n",
      " [ 5  1  0  0]\n",
      " [12 13  2 14]]\n"
     ]
    }
   ],
   "source": [
    "# pad documents to a max length of 4 words\n",
    "max_length = 4\n",
    "padded_docs = pad_sequences(encoded_docs, maxlen=max_length, padding='post')\n",
    "print(padded_docs)"
   ]
  },
  {
   "cell_type": "code",
   "execution_count": 27,
   "metadata": {},
   "outputs": [
    {
     "name": "stdout",
     "output_type": "stream",
     "text": [
      "Loaded 400000 word vectors.\n"
     ]
    }
   ],
   "source": [
    "# load the whole embedding into memory\n",
    "embeddings_index = dict()\n",
    "f = open('glove/glove.6B.100d.txt')\n",
    "for line in f:\n",
    "\tvalues = line.split()\n",
    "\tword = values[0]\n",
    "\tcoefs = asarray(values[1:], dtype='float32')\n",
    "\tembeddings_index[word] = coefs\n",
    "f.close()\n",
    "print('Loaded %s word vectors.' % len(embeddings_index))"
   ]
  },
  {
   "cell_type": "code",
   "execution_count": 28,
   "metadata": {},
   "outputs": [],
   "source": [
    "# create a weight matrix for words in training docs\n",
    "embedding_matrix = zeros((vocab_size, 100))\n",
    "for word, i in t.word_index.items():\n",
    "\tembedding_vector = embeddings_index.get(word)\n",
    "\tif embedding_vector is not None:\n",
    "\t\tembedding_matrix[i] = embedding_vector"
   ]
  },
  {
   "cell_type": "code",
   "execution_count": 29,
   "metadata": {},
   "outputs": [
    {
     "name": "stdout",
     "output_type": "stream",
     "text": [
      "15\n",
      "(15, 100)\n",
      "[[ 0.          0.          0.         ...  0.          0.\n",
      "   0.        ]\n",
      " [-0.11619     0.45447001 -0.69216001 ... -0.54737002  0.48822001\n",
      "   0.32246   ]\n",
      " [-0.2978      0.31147    -0.14937    ... -0.22709    -0.029261\n",
      "   0.4585    ]\n",
      " ...\n",
      " [ 0.05869     0.40272999  0.38633999 ... -0.35973999  0.43718001\n",
      "   0.10121   ]\n",
      " [ 0.15711001  0.65605998  0.0021149  ... -0.60614997  0.71004999\n",
      "   0.41468999]\n",
      " [-0.047543    0.51914001  0.34283999 ... -0.26859     0.48664999\n",
      "   0.55609   ]]\n"
     ]
    }
   ],
   "source": [
    "print(vocab_size)\n",
    "print(embedding_matrix.shape)\n",
    "print(embedding_matrix)"
   ]
  },
  {
   "cell_type": "code",
   "execution_count": 30,
   "metadata": {},
   "outputs": [],
   "source": [
    "# define model\n",
    "model = Sequential()\n",
    "#e = Embedding(vocab_size, 100, weights=[embedding_matrix], input_length=4, trainable=False)\n",
    "#model.add(e)\n",
    "model.add(pretrainedEmbeddingLayer)\n",
    "model.add(Flatten())\n",
    "model.add(Dense(1, activation='sigmoid'))"
   ]
  },
  {
   "cell_type": "code",
   "execution_count": 31,
   "metadata": {},
   "outputs": [
    {
     "name": "stdout",
     "output_type": "stream",
     "text": [
      "_________________________________________________________________\n",
      "Layer (type)                 Output Shape              Param #   \n",
      "=================================================================\n",
      "embedding_3 (Embedding)      (None, 4, 100)            40000100  \n",
      "_________________________________________________________________\n",
      "flatten_3 (Flatten)          (None, 400)               0         \n",
      "_________________________________________________________________\n",
      "dense_2 (Dense)              (None, 1)                 401       \n",
      "=================================================================\n",
      "Total params: 40,000,501\n",
      "Trainable params: 401\n",
      "Non-trainable params: 40,000,100\n",
      "_________________________________________________________________\n",
      "None\n"
     ]
    }
   ],
   "source": [
    "# compile the model\n",
    "model.compile(optimizer='adam', loss='binary_crossentropy', metrics=['acc'])\n",
    "# summarize the model\n",
    "print(model.summary())"
   ]
  },
  {
   "cell_type": "code",
   "execution_count": 32,
   "metadata": {},
   "outputs": [
    {
     "name": "stdout",
     "output_type": "stream",
     "text": [
      "Epoch 1/50\n",
      "10/10 [==============================] - 0s 12ms/step - loss: 0.8899 - acc: 0.3000\n",
      "Epoch 2/50\n",
      "10/10 [==============================] - 0s 170us/step - loss: 0.8691 - acc: 0.3000\n",
      "Epoch 3/50\n",
      "10/10 [==============================] - 0s 175us/step - loss: 0.8490 - acc: 0.3000\n",
      "Epoch 4/50\n",
      "10/10 [==============================] - 0s 170us/step - loss: 0.8295 - acc: 0.3000\n",
      "Epoch 5/50\n",
      "10/10 [==============================] - 0s 182us/step - loss: 0.8107 - acc: 0.3000\n",
      "Epoch 6/50\n",
      "10/10 [==============================] - 0s 167us/step - loss: 0.7926 - acc: 0.3000\n",
      "Epoch 7/50\n",
      "10/10 [==============================] - 0s 191us/step - loss: 0.7753 - acc: 0.4000\n",
      "Epoch 8/50\n",
      "10/10 [==============================] - 0s 193us/step - loss: 0.7587 - acc: 0.3000\n",
      "Epoch 9/50\n",
      "10/10 [==============================] - 0s 178us/step - loss: 0.7429 - acc: 0.4000\n",
      "Epoch 10/50\n",
      "10/10 [==============================] - 0s 179us/step - loss: 0.7278 - acc: 0.5000\n",
      "Epoch 11/50\n",
      "10/10 [==============================] - 0s 197us/step - loss: 0.7134 - acc: 0.5000\n",
      "Epoch 12/50\n",
      "10/10 [==============================] - 0s 165us/step - loss: 0.6997 - acc: 0.5000\n",
      "Epoch 13/50\n",
      "10/10 [==============================] - 0s 222us/step - loss: 0.6867 - acc: 0.5000\n",
      "Epoch 14/50\n",
      "10/10 [==============================] - 0s 199us/step - loss: 0.6742 - acc: 0.5000\n",
      "Epoch 15/50\n",
      "10/10 [==============================] - 0s 197us/step - loss: 0.6623 - acc: 0.5000\n",
      "Epoch 16/50\n",
      "10/10 [==============================] - 0s 180us/step - loss: 0.6511 - acc: 0.6000\n",
      "Epoch 17/50\n",
      "10/10 [==============================] - 0s 198us/step - loss: 0.6403 - acc: 0.6000\n",
      "Epoch 18/50\n",
      "10/10 [==============================] - 0s 226us/step - loss: 0.6299 - acc: 0.7000\n",
      "Epoch 19/50\n",
      "10/10 [==============================] - 0s 212us/step - loss: 0.6200 - acc: 0.7000\n",
      "Epoch 20/50\n",
      "10/10 [==============================] - 0s 183us/step - loss: 0.6105 - acc: 0.7000\n",
      "Epoch 21/50\n",
      "10/10 [==============================] - 0s 201us/step - loss: 0.6013 - acc: 0.7000\n",
      "Epoch 22/50\n",
      "10/10 [==============================] - 0s 223us/step - loss: 0.5924 - acc: 0.7000\n",
      "Epoch 23/50\n",
      "10/10 [==============================] - 0s 192us/step - loss: 0.5838 - acc: 0.7000\n",
      "Epoch 24/50\n",
      "10/10 [==============================] - 0s 207us/step - loss: 0.5756 - acc: 0.7000\n",
      "Epoch 25/50\n",
      "10/10 [==============================] - 0s 185us/step - loss: 0.5675 - acc: 0.7000\n",
      "Epoch 26/50\n",
      "10/10 [==============================] - 0s 194us/step - loss: 0.5597 - acc: 0.7000\n",
      "Epoch 27/50\n",
      "10/10 [==============================] - 0s 187us/step - loss: 0.5522 - acc: 0.7000\n",
      "Epoch 28/50\n",
      "10/10 [==============================] - 0s 233us/step - loss: 0.5448 - acc: 0.7000\n",
      "Epoch 29/50\n",
      "10/10 [==============================] - 0s 185us/step - loss: 0.5376 - acc: 0.7000\n",
      "Epoch 30/50\n",
      "10/10 [==============================] - 0s 231us/step - loss: 0.5305 - acc: 0.7000\n",
      "Epoch 31/50\n",
      "10/10 [==============================] - 0s 226us/step - loss: 0.5237 - acc: 0.7000\n",
      "Epoch 32/50\n",
      "10/10 [==============================] - 0s 202us/step - loss: 0.5169 - acc: 0.7000\n",
      "Epoch 33/50\n",
      "10/10 [==============================] - 0s 192us/step - loss: 0.5104 - acc: 0.7000\n",
      "Epoch 34/50\n",
      "10/10 [==============================] - 0s 192us/step - loss: 0.5039 - acc: 0.8000\n",
      "Epoch 35/50\n",
      "10/10 [==============================] - 0s 236us/step - loss: 0.4976 - acc: 0.8000\n",
      "Epoch 36/50\n",
      "10/10 [==============================] - 0s 191us/step - loss: 0.4914 - acc: 0.8000\n",
      "Epoch 37/50\n",
      "10/10 [==============================] - 0s 183us/step - loss: 0.4853 - acc: 0.8000\n",
      "Epoch 38/50\n",
      "10/10 [==============================] - 0s 179us/step - loss: 0.4794 - acc: 0.8000\n",
      "Epoch 39/50\n",
      "10/10 [==============================] - 0s 199us/step - loss: 0.4735 - acc: 0.8000\n",
      "Epoch 40/50\n",
      "10/10 [==============================] - 0s 200us/step - loss: 0.4678 - acc: 0.8000\n",
      "Epoch 41/50\n",
      "10/10 [==============================] - 0s 204us/step - loss: 0.4622 - acc: 0.8000\n",
      "Epoch 42/50\n",
      "10/10 [==============================] - 0s 191us/step - loss: 0.4567 - acc: 0.8000\n",
      "Epoch 43/50\n",
      "10/10 [==============================] - 0s 175us/step - loss: 0.4513 - acc: 0.8000\n",
      "Epoch 44/50\n",
      "10/10 [==============================] - 0s 212us/step - loss: 0.4459 - acc: 0.8000\n",
      "Epoch 45/50\n",
      "10/10 [==============================] - 0s 197us/step - loss: 0.4407 - acc: 0.8000\n",
      "Epoch 46/50\n",
      "10/10 [==============================] - 0s 226us/step - loss: 0.4355 - acc: 0.9000\n",
      "Epoch 47/50\n",
      "10/10 [==============================] - 0s 186us/step - loss: 0.4305 - acc: 0.9000\n",
      "Epoch 48/50\n",
      "10/10 [==============================] - 0s 203us/step - loss: 0.4255 - acc: 0.9000\n",
      "Epoch 49/50\n",
      "10/10 [==============================] - 0s 196us/step - loss: 0.4207 - acc: 0.9000\n",
      "Epoch 50/50\n",
      "10/10 [==============================] - 0s 188us/step - loss: 0.4159 - acc: 0.9000\n"
     ]
    },
    {
     "data": {
      "text/plain": [
       "<keras.callbacks.History at 0x122a02d10>"
      ]
     },
     "execution_count": 32,
     "metadata": {},
     "output_type": "execute_result"
    }
   ],
   "source": [
    "# fit the model\n",
    "model.fit(padded_docs, labels, epochs=50, verbose=1)"
   ]
  },
  {
   "cell_type": "code",
   "execution_count": 33,
   "metadata": {},
   "outputs": [
    {
     "name": "stdout",
     "output_type": "stream",
     "text": [
      "Accuracy: 89.999998\n"
     ]
    }
   ],
   "source": [
    "# evaluate the model\n",
    "loss, accuracy = model.evaluate(padded_docs, labels, verbose=0)\n",
    "print('Accuracy: %f' % (accuracy*100))"
   ]
  },
  {
   "cell_type": "code",
   "execution_count": 34,
   "metadata": {},
   "outputs": [
    {
     "name": "stdout",
     "output_type": "stream",
     "text": [
      "_________________________________________________________________\n",
      "Layer (type)                 Output Shape              Param #   \n",
      "=================================================================\n",
      "embedding_3 (Embedding)      (None, 4, 100)            40000100  \n",
      "_________________________________________________________________\n",
      "flatten_3 (Flatten)          (None, 400)               0         \n",
      "_________________________________________________________________\n",
      "dense_2 (Dense)              (None, 1)                 401       \n",
      "=================================================================\n",
      "Total params: 40,000,501\n",
      "Trainable params: 401\n",
      "Non-trainable params: 40,000,100\n",
      "_________________________________________________________________\n"
     ]
    }
   ],
   "source": [
    "model.summary()"
   ]
  },
  {
   "cell_type": "code",
   "execution_count": 35,
   "metadata": {},
   "outputs": [
    {
     "name": "stdout",
     "output_type": "stream",
     "text": [
      "[[0.79123676]\n",
      " [0.7839854 ]\n",
      " [0.4764969 ]\n",
      " [0.754538  ]\n",
      " [0.5914174 ]\n",
      " [0.40075096]\n",
      " [0.3685656 ]\n",
      " [0.3576926 ]\n",
      " [0.4666564 ]\n",
      " [0.04183918]]\n",
      "['Well done!', 'Good work', 'Great effort', 'nice work', 'Excellent!', 'Weak', 'Poor effort!', 'not good', 'poor work', 'Could have done better.']\n",
      "[1 1 1 1 1 0 0 0 0 0]\n"
     ]
    }
   ],
   "source": [
    "# test prediction\n",
    "test = array([[ 6,  2,  0,  0],\n",
    "              [ 3,  1,  0,  0],\n",
    "              [ 7,  4,  0,  0],\n",
    "              [ 8,  1,  0,  0],\n",
    "              [ 9,  0,  0,  0],\n",
    "              [10,  0,  0,  0],\n",
    "              [ 5,  4,  0,  0],\n",
    "              [11,  3,  0,  0],\n",
    "              [ 5,  1,  0,  0],\n",
    "              [12, 13,  2, 14]])\n",
    "\n",
    "y_pred = model.predict(test)\n",
    "print(y_pred)\n",
    "print(docs)\n",
    "print(labels)"
   ]
  },
  {
   "cell_type": "code",
   "execution_count": 36,
   "metadata": {},
   "outputs": [],
   "source": [
    "# save model\n",
    "model.save('model.h5')"
   ]
  },
  {
   "cell_type": "code",
   "execution_count": 37,
   "metadata": {},
   "outputs": [
    {
     "name": "stderr",
     "output_type": "stream",
     "text": [
      "WARNING:root:Keras version 2.1.5 detected. Last version known to be fully compatible of Keras is 2.1.3 .\n",
      "WARNING:root:TensorFlow version 1.6.0 detected. Last version known to be fully compatible is 1.5.0 .\n"
     ]
    },
    {
     "name": "stdout",
     "output_type": "stream",
     "text": [
      "0 : embedding_3_input, <keras.engine.topology.InputLayer object at 0x13aa91510>\n",
      "1 : embedding_3, <keras.layers.embeddings.Embedding object at 0x13a9cd7d0>\n",
      "2 : flatten_3, <keras.layers.core.Flatten object at 0x13aa91550>\n",
      "3 : dense_2, <keras.layers.core.Dense object at 0x13aa91610>\n",
      "4 : dense_2__activation__, <keras.layers.core.Activation object at 0x124b7c5d0>\n"
     ]
    }
   ],
   "source": [
    "# export coreml\n",
    "import coremltools\n",
    "coreml_model = coremltools.converters.keras.convert(model)\n",
    "coreml_model.save('model.mlmodel')"
   ]
  },
  {
   "cell_type": "code",
   "execution_count": 38,
   "metadata": {},
   "outputs": [
    {
     "data": {
      "text/plain": [
       "input {\n",
       "  name: \"input1\"\n",
       "  type {\n",
       "    multiArrayType {\n",
       "      shape: 1\n",
       "      dataType: DOUBLE\n",
       "    }\n",
       "  }\n",
       "}\n",
       "output {\n",
       "  name: \"output1\"\n",
       "  type {\n",
       "    multiArrayType {\n",
       "      shape: 1\n",
       "      dataType: DOUBLE\n",
       "    }\n",
       "  }\n",
       "}"
      ]
     },
     "execution_count": 38,
     "metadata": {},
     "output_type": "execute_result"
    }
   ],
   "source": [
    "# dump coreml\n",
    "coreml_model"
   ]
  },
  {
   "cell_type": "code",
   "execution_count": 39,
   "metadata": {},
   "outputs": [],
   "source": [
    "# Make predictions\n",
    "predictions = coreml_model.predict({'input1': [[[6.0]],  [[2.0]],  [[0.0]],  [[0.0]]] })"
   ]
  },
  {
   "cell_type": "code",
   "execution_count": 40,
   "metadata": {},
   "outputs": [
    {
     "name": "stdout",
     "output_type": "stream",
     "text": [
      "{u'output1': array([0.79052734])}\n"
     ]
    }
   ],
   "source": [
    "print(predictions)"
   ]
  },
  {
   "cell_type": "code",
   "execution_count": null,
   "metadata": {},
   "outputs": [],
   "source": []
  }
 ],
 "metadata": {
  "kernelspec": {
   "display_name": "Python 2",
   "language": "python",
   "name": "python2"
  },
  "language_info": {
   "codemirror_mode": {
    "name": "ipython",
    "version": 2
   },
   "file_extension": ".py",
   "mimetype": "text/x-python",
   "name": "python",
   "nbconvert_exporter": "python",
   "pygments_lexer": "ipython2",
   "version": "2.7.14"
  }
 },
 "nbformat": 4,
 "nbformat_minor": 2
}
