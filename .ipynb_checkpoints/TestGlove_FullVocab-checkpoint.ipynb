{
 "cells": [
  {
   "cell_type": "code",
   "execution_count": 131,
   "metadata": {},
   "outputs": [],
   "source": [
    "from numpy import array\n",
    "from numpy import asarray\n",
    "from numpy import zeros\n",
    "import numpy as np\n",
    "from nltk.tokenize import RegexpTokenizer\n",
    "from keras.preprocessing.text import Tokenizer\n",
    "from keras.preprocessing.sequence import pad_sequences\n",
    "from keras.models import Sequential\n",
    "from keras.layers import Dense\n",
    "from keras.layers import Flatten\n",
    "from keras.layers import Embedding"
   ]
  },
  {
   "cell_type": "code",
   "execution_count": 132,
   "metadata": {},
   "outputs": [],
   "source": [
    "# Prepare Glove File\n",
    "def readGloveFile(gloveFile):\n",
    "    with open(gloveFile, 'r') as f:\n",
    "        wordToGlove = {}  # map from a token (word) to a Glove embedding vector\n",
    "        wordToIndex = {}  # map from a token to an index\n",
    "        indexToWord = {}  # map from an index to a token \n",
    "\n",
    "        for line in f:\n",
    "            record = line.strip().split()\n",
    "            token = record[0] # take the token (word) from the text line\n",
    "            wordToGlove[token] = np.array(record[1:], dtype=np.float64) # associate the Glove embedding vector to a that token (word)\n",
    "\n",
    "        tokens = sorted(wordToGlove.keys())\n",
    "        for idx, tok in enumerate(tokens):\n",
    "            kerasIdx = idx + 1  # 0 is reserved for masking in Keras (see above)\n",
    "            wordToIndex[tok] = kerasIdx # associate an index to a token (word)\n",
    "            indexToWord[kerasIdx] = tok # associate a word to a token (word). Note: inverse of dictionary above\n",
    "\n",
    "    return wordToIndex, indexToWord, wordToGlove"
   ]
  },
  {
   "cell_type": "code",
   "execution_count": 133,
   "metadata": {},
   "outputs": [],
   "source": [
    "# Create Pretrained Keras Embedding Layer\n",
    "def createPretrainedEmbeddingLayer(wordToGlove, wordToIndex, inputLength, isTrainable):\n",
    "    vocabLen = len(wordToIndex) + 1  # adding 1 to account for masking\n",
    "    embDim = next(iter(wordToGlove.values())).shape[0]  # works with any glove dimensions (e.g. 50)\n",
    "\n",
    "    print(embDim)\n",
    "    \n",
    "    embeddingMatrix = np.zeros((vocabLen, embDim))  # initialize with zeros\n",
    "    for word, index in wordToIndex.items():\n",
    "        embeddingMatrix[index, :] = wordToGlove[word] # create embedding: word index to Glove word embedding\n",
    "\n",
    "    embeddingLayer = Embedding(vocabLen, embDim, weights=[embeddingMatrix], input_length=inputLength, trainable=isTrainable)\n",
    "    return embeddingLayer\n"
   ]
  },
  {
   "cell_type": "code",
   "execution_count": 134,
   "metadata": {},
   "outputs": [],
   "source": [
    "# Embedding\n",
    "def getEncodedDocs(docs):\n",
    "    encoded_docs = []\n",
    "\n",
    "    tokenizer = RegexpTokenizer(r'\\w+')\n",
    "    for doc in docs:\n",
    "        encoded_doc = []\n",
    "        for word in tokenizer.tokenize(doc.lower()):\n",
    "            index = wordToIndex[word]\n",
    "            if index is not None:\n",
    "                encoded_doc.append(index)\n",
    "            else:\n",
    "                encoded_doc.append(0)\n",
    "        encoded_docs.append(encoded_doc)\n",
    "\n",
    "    return encoded_docs"
   ]
  },
  {
   "cell_type": "code",
   "execution_count": 135,
   "metadata": {},
   "outputs": [
    {
     "name": "stdout",
     "output_type": "stream",
     "text": [
      "100\n"
     ]
    }
   ],
   "source": [
    "# usage\n",
    "max_length = 4\n",
    "wordToIndex, indexToWord, wordToGlove = readGloveFile(\"glove/glove.6B.100d.txt\")\n",
    "pretrainedEmbeddingLayer = createPretrainedEmbeddingLayer(wordToGlove, wordToIndex, max_length, False)\n",
    "#model = Sequential()\n",
    "#model.add(pretrainedEmbeddingLayer)"
   ]
  },
  {
   "cell_type": "code",
   "execution_count": 136,
   "metadata": {},
   "outputs": [
    {
     "name": "stdout",
     "output_type": "stream",
     "text": [
      "400000\n",
      "385218\n"
     ]
    }
   ],
   "source": [
    "print(len(wordToIndex))\n",
    "print(wordToIndex[\"well\"])"
   ]
  },
  {
   "cell_type": "code",
   "execution_count": 137,
   "metadata": {},
   "outputs": [],
   "source": [
    "# define documents\n",
    "docs = ['Well done!',\n",
    "        'Good work',\n",
    "        'Great effort',\n",
    "        'nice work',\n",
    "        'Excellent!',\n",
    "        'Weak',\n",
    "        'Poor effort!',\n",
    "        'not good',\n",
    "        'poor work',\n",
    "        'Could have done better.']\n",
    "# define class labels\n",
    "labels = array([1,1,1,1,1,0,0,0,0,0])"
   ]
  },
  {
   "cell_type": "code",
   "execution_count": 138,
   "metadata": {},
   "outputs": [
    {
     "name": "stdout",
     "output_type": "stream",
     "text": [
      "[[385218, 127491], [164328, 389836], [166369, 133946], [260760, 389836], [142331], [384383], [288743, 133946], [264550, 164328], [288743, 389836], [110156, 174642, 127491, 74597]]\n"
     ]
    }
   ],
   "source": [
    "encoded_docs = getEncodedDocs(docs)    \n",
    "print(encoded_docs)"
   ]
  },
  {
   "cell_type": "code",
   "execution_count": 139,
   "metadata": {},
   "outputs": [
    {
     "name": "stdout",
     "output_type": "stream",
     "text": [
      "[[385218 127491      0      0]\n",
      " [164328 389836      0      0]\n",
      " [166369 133946      0      0]\n",
      " [260760 389836      0      0]\n",
      " [142331      0      0      0]\n",
      " [384383      0      0      0]\n",
      " [288743 133946      0      0]\n",
      " [264550 164328      0      0]\n",
      " [288743 389836      0      0]\n",
      " [110156 174642 127491  74597]]\n"
     ]
    }
   ],
   "source": [
    "# pad documents to a max length of 4 words\n",
    "padded_docs = pad_sequences(encoded_docs, maxlen=max_length, padding='post')\n",
    "print(padded_docs)"
   ]
  },
  {
   "cell_type": "code",
   "execution_count": 140,
   "metadata": {},
   "outputs": [],
   "source": [
    "# define model\n",
    "model = Sequential()\n",
    "#e = Embedding(vocab_size, 100, weights=[embedding_matrix], input_length=4, trainable=False)\n",
    "#model.add(e)\n",
    "model.add(pretrainedEmbeddingLayer)\n",
    "model.add(Flatten())\n",
    "model.add(Dense(1, activation='sigmoid'))"
   ]
  },
  {
   "cell_type": "code",
   "execution_count": 141,
   "metadata": {},
   "outputs": [
    {
     "name": "stdout",
     "output_type": "stream",
     "text": [
      "_________________________________________________________________\n",
      "Layer (type)                 Output Shape              Param #   \n",
      "=================================================================\n",
      "embedding_7 (Embedding)      (None, 4, 100)            40000100  \n",
      "_________________________________________________________________\n",
      "flatten_7 (Flatten)          (None, 400)               0         \n",
      "_________________________________________________________________\n",
      "dense_6 (Dense)              (None, 1)                 401       \n",
      "=================================================================\n",
      "Total params: 40,000,501\n",
      "Trainable params: 401\n",
      "Non-trainable params: 40,000,100\n",
      "_________________________________________________________________\n",
      "None\n"
     ]
    }
   ],
   "source": [
    "# compile the model\n",
    "model.compile(optimizer='adam', loss='binary_crossentropy', metrics=['acc'])\n",
    "# summarize the model\n",
    "print(model.summary())"
   ]
  },
  {
   "cell_type": "code",
   "execution_count": 142,
   "metadata": {},
   "outputs": [
    {
     "name": "stdout",
     "output_type": "stream",
     "text": [
      "Epoch 1/100\n",
      "10/10 [==============================] - 0s 21ms/step - loss: 0.8253 - acc: 0.4000\n",
      "Epoch 2/100\n",
      "10/10 [==============================] - 0s 221us/step - loss: 0.8133 - acc: 0.4000\n",
      "Epoch 3/100\n",
      "10/10 [==============================] - 0s 217us/step - loss: 0.7976 - acc: 0.4000\n",
      "Epoch 4/100\n",
      "10/10 [==============================] - 0s 223us/step - loss: 0.7825 - acc: 0.4000\n",
      "Epoch 5/100\n",
      "10/10 [==============================] - 0s 199us/step - loss: 0.7678 - acc: 0.4000\n",
      "Epoch 6/100\n",
      "10/10 [==============================] - 0s 179us/step - loss: 0.7537 - acc: 0.4000\n",
      "Epoch 7/100\n",
      "10/10 [==============================] - 0s 199us/step - loss: 0.7399 - acc: 0.4000\n",
      "Epoch 8/100\n",
      "10/10 [==============================] - 0s 190us/step - loss: 0.7266 - acc: 0.6000\n",
      "Epoch 9/100\n",
      "10/10 [==============================] - 0s 193us/step - loss: 0.7137 - acc: 0.6000\n",
      "Epoch 10/100\n",
      "10/10 [==============================] - 0s 192us/step - loss: 0.7012 - acc: 0.6000\n",
      "Epoch 11/100\n",
      "10/10 [==============================] - 0s 195us/step - loss: 0.6890 - acc: 0.6000\n",
      "Epoch 12/100\n",
      "10/10 [==============================] - 0s 197us/step - loss: 0.6772 - acc: 0.6000\n",
      "Epoch 13/100\n",
      "10/10 [==============================] - 0s 222us/step - loss: 0.6657 - acc: 0.6000\n",
      "Epoch 14/100\n",
      "10/10 [==============================] - 0s 193us/step - loss: 0.6545 - acc: 0.6000\n",
      "Epoch 15/100\n",
      "10/10 [==============================] - 0s 234us/step - loss: 0.6437 - acc: 0.6000\n",
      "Epoch 16/100\n",
      "10/10 [==============================] - 0s 191us/step - loss: 0.6331 - acc: 0.6000\n",
      "Epoch 17/100\n",
      "10/10 [==============================] - 0s 231us/step - loss: 0.6228 - acc: 0.6000\n",
      "Epoch 18/100\n",
      "10/10 [==============================] - 0s 196us/step - loss: 0.6128 - acc: 0.6000\n",
      "Epoch 19/100\n",
      "10/10 [==============================] - 0s 230us/step - loss: 0.6031 - acc: 0.7000\n",
      "Epoch 20/100\n",
      "10/10 [==============================] - 0s 216us/step - loss: 0.5936 - acc: 0.7000\n",
      "Epoch 21/100\n",
      "10/10 [==============================] - 0s 192us/step - loss: 0.5844 - acc: 0.7000\n",
      "Epoch 22/100\n",
      "10/10 [==============================] - 0s 217us/step - loss: 0.5754 - acc: 0.7000\n",
      "Epoch 23/100\n",
      "10/10 [==============================] - 0s 204us/step - loss: 0.5666 - acc: 0.8000\n",
      "Epoch 24/100\n",
      "10/10 [==============================] - 0s 202us/step - loss: 0.5580 - acc: 0.8000\n",
      "Epoch 25/100\n",
      "10/10 [==============================] - 0s 214us/step - loss: 0.5497 - acc: 0.9000\n",
      "Epoch 26/100\n",
      "10/10 [==============================] - 0s 217us/step - loss: 0.5416 - acc: 0.9000\n",
      "Epoch 27/100\n",
      "10/10 [==============================] - 0s 207us/step - loss: 0.5337 - acc: 0.9000\n",
      "Epoch 28/100\n",
      "10/10 [==============================] - 0s 198us/step - loss: 0.5259 - acc: 1.0000\n",
      "Epoch 29/100\n",
      "10/10 [==============================] - 0s 206us/step - loss: 0.5184 - acc: 1.0000\n",
      "Epoch 30/100\n",
      "10/10 [==============================] - 0s 193us/step - loss: 0.5110 - acc: 1.0000\n",
      "Epoch 31/100\n",
      "10/10 [==============================] - 0s 212us/step - loss: 0.5038 - acc: 1.0000\n",
      "Epoch 32/100\n",
      "10/10 [==============================] - 0s 215us/step - loss: 0.4967 - acc: 1.0000\n",
      "Epoch 33/100\n",
      "10/10 [==============================] - 0s 195us/step - loss: 0.4898 - acc: 1.0000\n",
      "Epoch 34/100\n",
      "10/10 [==============================] - 0s 210us/step - loss: 0.4831 - acc: 1.0000\n",
      "Epoch 35/100\n",
      "10/10 [==============================] - 0s 218us/step - loss: 0.4765 - acc: 1.0000\n",
      "Epoch 36/100\n",
      "10/10 [==============================] - 0s 218us/step - loss: 0.4700 - acc: 1.0000\n",
      "Epoch 37/100\n",
      "10/10 [==============================] - 0s 211us/step - loss: 0.4637 - acc: 1.0000\n",
      "Epoch 38/100\n",
      "10/10 [==============================] - 0s 219us/step - loss: 0.4574 - acc: 1.0000\n",
      "Epoch 39/100\n",
      "10/10 [==============================] - 0s 230us/step - loss: 0.4514 - acc: 1.0000\n",
      "Epoch 40/100\n",
      "10/10 [==============================] - 0s 211us/step - loss: 0.4454 - acc: 1.0000\n",
      "Epoch 41/100\n",
      "10/10 [==============================] - 0s 178us/step - loss: 0.4395 - acc: 1.0000\n",
      "Epoch 42/100\n",
      "10/10 [==============================] - 0s 203us/step - loss: 0.4337 - acc: 1.0000\n",
      "Epoch 43/100\n",
      "10/10 [==============================] - 0s 192us/step - loss: 0.4280 - acc: 1.0000\n",
      "Epoch 44/100\n",
      "10/10 [==============================] - 0s 189us/step - loss: 0.4225 - acc: 1.0000\n",
      "Epoch 45/100\n",
      "10/10 [==============================] - 0s 192us/step - loss: 0.4171 - acc: 1.0000\n",
      "Epoch 46/100\n",
      "10/10 [==============================] - 0s 203us/step - loss: 0.4118 - acc: 1.0000\n",
      "Epoch 47/100\n",
      "10/10 [==============================] - 0s 214us/step - loss: 0.4066 - acc: 1.0000\n",
      "Epoch 48/100\n",
      "10/10 [==============================] - 0s 203us/step - loss: 0.4015 - acc: 1.0000\n",
      "Epoch 49/100\n",
      "10/10 [==============================] - 0s 198us/step - loss: 0.3964 - acc: 1.0000\n",
      "Epoch 50/100\n",
      "10/10 [==============================] - 0s 196us/step - loss: 0.3915 - acc: 1.0000\n",
      "Epoch 51/100\n",
      "10/10 [==============================] - 0s 204us/step - loss: 0.3867 - acc: 1.0000\n",
      "Epoch 52/100\n",
      "10/10 [==============================] - 0s 194us/step - loss: 0.3819 - acc: 1.0000\n",
      "Epoch 53/100\n",
      "10/10 [==============================] - 0s 190us/step - loss: 0.3772 - acc: 1.0000\n",
      "Epoch 54/100\n",
      "10/10 [==============================] - 0s 200us/step - loss: 0.3726 - acc: 1.0000\n",
      "Epoch 55/100\n",
      "10/10 [==============================] - 0s 212us/step - loss: 0.3681 - acc: 1.0000\n",
      "Epoch 56/100\n",
      "10/10 [==============================] - 0s 240us/step - loss: 0.3637 - acc: 1.0000\n",
      "Epoch 57/100\n",
      "10/10 [==============================] - 0s 205us/step - loss: 0.3593 - acc: 1.0000\n",
      "Epoch 58/100\n",
      "10/10 [==============================] - 0s 191us/step - loss: 0.3550 - acc: 1.0000\n",
      "Epoch 59/100\n",
      "10/10 [==============================] - 0s 226us/step - loss: 0.3508 - acc: 1.0000\n",
      "Epoch 60/100\n",
      "10/10 [==============================] - 0s 229us/step - loss: 0.3467 - acc: 1.0000\n",
      "Epoch 61/100\n",
      "10/10 [==============================] - 0s 200us/step - loss: 0.3426 - acc: 1.0000\n",
      "Epoch 62/100\n",
      "10/10 [==============================] - 0s 235us/step - loss: 0.3386 - acc: 1.0000\n",
      "Epoch 63/100\n",
      "10/10 [==============================] - 0s 241us/step - loss: 0.3347 - acc: 1.0000\n",
      "Epoch 64/100\n",
      "10/10 [==============================] - 0s 264us/step - loss: 0.3308 - acc: 1.0000\n",
      "Epoch 65/100\n",
      "10/10 [==============================] - 0s 208us/step - loss: 0.3270 - acc: 1.0000\n",
      "Epoch 66/100\n",
      "10/10 [==============================] - 0s 230us/step - loss: 0.3233 - acc: 1.0000\n",
      "Epoch 67/100\n",
      "10/10 [==============================] - 0s 192us/step - loss: 0.3196 - acc: 1.0000\n",
      "Epoch 68/100\n",
      "10/10 [==============================] - 0s 209us/step - loss: 0.3160 - acc: 1.0000\n",
      "Epoch 69/100\n",
      "10/10 [==============================] - 0s 211us/step - loss: 0.3124 - acc: 1.0000\n",
      "Epoch 70/100\n",
      "10/10 [==============================] - 0s 221us/step - loss: 0.3089 - acc: 1.0000\n",
      "Epoch 71/100\n",
      "10/10 [==============================] - 0s 184us/step - loss: 0.3055 - acc: 1.0000\n",
      "Epoch 72/100\n",
      "10/10 [==============================] - 0s 185us/step - loss: 0.3021 - acc: 1.0000\n",
      "Epoch 73/100\n",
      "10/10 [==============================] - 0s 199us/step - loss: 0.2988 - acc: 1.0000\n",
      "Epoch 74/100\n",
      "10/10 [==============================] - 0s 205us/step - loss: 0.2955 - acc: 1.0000\n",
      "Epoch 75/100\n",
      "10/10 [==============================] - 0s 191us/step - loss: 0.2923 - acc: 1.0000\n",
      "Epoch 76/100\n",
      "10/10 [==============================] - 0s 246us/step - loss: 0.2891 - acc: 1.0000\n",
      "Epoch 77/100\n",
      "10/10 [==============================] - 0s 216us/step - loss: 0.2860 - acc: 1.0000\n",
      "Epoch 78/100\n",
      "10/10 [==============================] - 0s 215us/step - loss: 0.2829 - acc: 1.0000\n",
      "Epoch 79/100\n",
      "10/10 [==============================] - 0s 195us/step - loss: 0.2799 - acc: 1.0000\n",
      "Epoch 80/100\n",
      "10/10 [==============================] - 0s 194us/step - loss: 0.2769 - acc: 1.0000\n",
      "Epoch 81/100\n",
      "10/10 [==============================] - 0s 216us/step - loss: 0.2740 - acc: 1.0000\n",
      "Epoch 82/100\n",
      "10/10 [==============================] - 0s 190us/step - loss: 0.2710 - acc: 1.0000\n",
      "Epoch 83/100\n",
      "10/10 [==============================] - 0s 213us/step - loss: 0.2682 - acc: 1.0000\n",
      "Epoch 84/100\n",
      "10/10 [==============================] - 0s 204us/step - loss: 0.2654 - acc: 1.0000\n",
      "Epoch 85/100\n",
      "10/10 [==============================] - 0s 206us/step - loss: 0.2626 - acc: 1.0000\n"
     ]
    },
    {
     "name": "stdout",
     "output_type": "stream",
     "text": [
      "Epoch 86/100\n",
      "10/10 [==============================] - 0s 215us/step - loss: 0.2599 - acc: 1.0000\n",
      "Epoch 87/100\n",
      "10/10 [==============================] - 0s 190us/step - loss: 0.2573 - acc: 1.0000\n",
      "Epoch 88/100\n",
      "10/10 [==============================] - 0s 166us/step - loss: 0.2546 - acc: 1.0000\n",
      "Epoch 89/100\n",
      "10/10 [==============================] - 0s 213us/step - loss: 0.2520 - acc: 1.0000\n",
      "Epoch 90/100\n",
      "10/10 [==============================] - 0s 229us/step - loss: 0.2495 - acc: 1.0000\n",
      "Epoch 91/100\n",
      "10/10 [==============================] - 0s 205us/step - loss: 0.2469 - acc: 1.0000\n",
      "Epoch 92/100\n",
      "10/10 [==============================] - 0s 201us/step - loss: 0.2445 - acc: 1.0000\n",
      "Epoch 93/100\n",
      "10/10 [==============================] - 0s 174us/step - loss: 0.2420 - acc: 1.0000\n",
      "Epoch 94/100\n",
      "10/10 [==============================] - 0s 200us/step - loss: 0.2396 - acc: 1.0000\n",
      "Epoch 95/100\n",
      "10/10 [==============================] - 0s 207us/step - loss: 0.2372 - acc: 1.0000\n",
      "Epoch 96/100\n",
      "10/10 [==============================] - 0s 205us/step - loss: 0.2349 - acc: 1.0000\n",
      "Epoch 97/100\n",
      "10/10 [==============================] - 0s 176us/step - loss: 0.2326 - acc: 1.0000\n",
      "Epoch 98/100\n",
      "10/10 [==============================] - 0s 164us/step - loss: 0.2303 - acc: 1.0000\n",
      "Epoch 99/100\n",
      "10/10 [==============================] - 0s 210us/step - loss: 0.2280 - acc: 1.0000\n",
      "Epoch 100/100\n",
      "10/10 [==============================] - 0s 218us/step - loss: 0.2258 - acc: 1.0000\n"
     ]
    },
    {
     "data": {
      "text/plain": [
       "<keras.callbacks.History at 0x122f92710>"
      ]
     },
     "execution_count": 142,
     "metadata": {},
     "output_type": "execute_result"
    }
   ],
   "source": [
    "# fit the model\n",
    "model.fit(padded_docs, labels, epochs=100, verbose=1)"
   ]
  },
  {
   "cell_type": "code",
   "execution_count": 143,
   "metadata": {},
   "outputs": [
    {
     "name": "stdout",
     "output_type": "stream",
     "text": [
      "Accuracy: 100.000000\n"
     ]
    }
   ],
   "source": [
    "# evaluate the model\n",
    "loss, accuracy = model.evaluate(padded_docs, labels, verbose=0)\n",
    "print('Accuracy: %f' % (accuracy*100))"
   ]
  },
  {
   "cell_type": "code",
   "execution_count": 144,
   "metadata": {},
   "outputs": [
    {
     "name": "stdout",
     "output_type": "stream",
     "text": [
      "_________________________________________________________________\n",
      "Layer (type)                 Output Shape              Param #   \n",
      "=================================================================\n",
      "embedding_7 (Embedding)      (None, 4, 100)            40000100  \n",
      "_________________________________________________________________\n",
      "flatten_7 (Flatten)          (None, 400)               0         \n",
      "_________________________________________________________________\n",
      "dense_6 (Dense)              (None, 1)                 401       \n",
      "=================================================================\n",
      "Total params: 40,000,501\n",
      "Trainable params: 401\n",
      "Non-trainable params: 40,000,100\n",
      "_________________________________________________________________\n"
     ]
    }
   ],
   "source": [
    "model.summary()"
   ]
  },
  {
   "cell_type": "code",
   "execution_count": 146,
   "metadata": {},
   "outputs": [
    {
     "name": "stdout",
     "output_type": "stream",
     "text": [
      "[[0.76810914]\n",
      " [0.80124456]\n",
      " [0.8380265 ]\n",
      " [0.8395677 ]\n",
      " [0.7456014 ]\n",
      " [0.23684552]\n",
      " [0.19560532]\n",
      " [0.23353581]\n",
      " [0.27315626]\n",
      " [0.0324432 ]]\n",
      "['Well done!', 'Good work', 'Great effort', 'nice work', 'Excellent!', 'Weak', 'Poor effort!', 'not good', 'poor work', 'Could have done better.']\n",
      "[1 1 1 1 1 0 0 0 0 0]\n"
     ]
    }
   ],
   "source": [
    "# test prediction\n",
    "\n",
    "test = array([[385218, 127491,      0,      0],\n",
    "              [164328, 389836,      0,      0],\n",
    "              [166369, 133946,      0,      0],\n",
    "              [260760, 389836,      0,      0],\n",
    "              [142331,      0,      0,      0],\n",
    "              [384383,      0,      0,      0],\n",
    "              [288743, 133946,      0,      0],\n",
    "              [264550, 164328,      0,      0],\n",
    "              [288743, 389836,      0,      0],\n",
    "              [110156, 174642, 127491,  74597]])\n",
    "\n",
    "\n",
    "y_pred = model.predict(test)\n",
    "print(y_pred)\n",
    "print(docs)\n",
    "print(labels)"
   ]
  },
  {
   "cell_type": "code",
   "execution_count": 147,
   "metadata": {},
   "outputs": [],
   "source": [
    "# save model\n",
    "model.save('model.h5')"
   ]
  },
  {
   "cell_type": "code",
   "execution_count": 148,
   "metadata": {},
   "outputs": [
    {
     "name": "stdout",
     "output_type": "stream",
     "text": [
      "0 : embedding_7_input, <keras.engine.topology.InputLayer object at 0x1218c82d0>\n",
      "1 : embedding_7, <keras.layers.embeddings.Embedding object at 0x121c317d0>\n",
      "2 : flatten_7, <keras.layers.core.Flatten object at 0x1218c8b50>\n",
      "3 : dense_6, <keras.layers.core.Dense object at 0x1218c8b90>\n",
      "4 : dense_6__activation__, <keras.layers.core.Activation object at 0x124115f90>\n"
     ]
    }
   ],
   "source": [
    "# export coreml\n",
    "import coremltools\n",
    "coreml_model = coremltools.converters.keras.convert(model)\n",
    "coreml_model.save('model.mlmodel')"
   ]
  },
  {
   "cell_type": "code",
   "execution_count": 149,
   "metadata": {},
   "outputs": [
    {
     "data": {
      "text/plain": [
       "input {\n",
       "  name: \"input1\"\n",
       "  type {\n",
       "    multiArrayType {\n",
       "      shape: 1\n",
       "      dataType: DOUBLE\n",
       "    }\n",
       "  }\n",
       "}\n",
       "output {\n",
       "  name: \"output1\"\n",
       "  type {\n",
       "    multiArrayType {\n",
       "      shape: 1\n",
       "      dataType: DOUBLE\n",
       "    }\n",
       "  }\n",
       "}"
      ]
     },
     "execution_count": 149,
     "metadata": {},
     "output_type": "execute_result"
    }
   ],
   "source": [
    "# dump coreml\n",
    "coreml_model"
   ]
  },
  {
   "cell_type": "code",
   "execution_count": 150,
   "metadata": {},
   "outputs": [],
   "source": [
    "# Make predictions\n",
    "predictions = coreml_model.predict({'input1': [[[385218.0]],  [[127491.0]],  [[0.0]],  [[0.0]]] })"
   ]
  },
  {
   "cell_type": "code",
   "execution_count": 151,
   "metadata": {},
   "outputs": [
    {
     "name": "stdout",
     "output_type": "stream",
     "text": [
      "{u'output1': array([0.76757812])}\n"
     ]
    }
   ],
   "source": [
    "print(predictions)"
   ]
  },
  {
   "cell_type": "code",
   "execution_count": null,
   "metadata": {},
   "outputs": [],
   "source": []
  }
 ],
 "metadata": {
  "kernelspec": {
   "display_name": "Python 2",
   "language": "python",
   "name": "python2"
  },
  "language_info": {
   "codemirror_mode": {
    "name": "ipython",
    "version": 2
   },
   "file_extension": ".py",
   "mimetype": "text/x-python",
   "name": "python",
   "nbconvert_exporter": "python",
   "pygments_lexer": "ipython2",
   "version": "2.7.14"
  }
 },
 "nbformat": 4,
 "nbformat_minor": 2
}
