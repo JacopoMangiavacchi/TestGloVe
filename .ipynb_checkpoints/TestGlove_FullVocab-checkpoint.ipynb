{
 "cells": [
  {
   "cell_type": "code",
   "execution_count": 85,
   "metadata": {},
   "outputs": [],
   "source": [
    "from numpy import array\n",
    "from numpy import asarray\n",
    "from numpy import zeros\n",
    "import numpy as np\n",
    "from nltk.tokenize import RegexpTokenizer\n",
    "from keras.preprocessing.text import Tokenizer\n",
    "from keras.preprocessing.sequence import pad_sequences\n",
    "from keras.models import Sequential\n",
    "from keras.layers import Dense\n",
    "from keras.layers import Flatten\n",
    "from keras.layers import Embedding"
   ]
  },
  {
   "cell_type": "code",
   "execution_count": 86,
   "metadata": {},
   "outputs": [],
   "source": [
    "# Prepare Glove File\n",
    "def readGloveFile(gloveFile):\n",
    "    with open(gloveFile, 'r') as f:\n",
    "        wordToGlove = {}  # map from a token (word) to a Glove embedding vector\n",
    "        wordToIndex = {}  # map from a token to an index\n",
    "        indexToWord = {}  # map from an index to a token \n",
    "\n",
    "        for line in f:\n",
    "            record = line.strip().split()\n",
    "            token = record[0] # take the token (word) from the text line\n",
    "            wordToGlove[token] = np.array(record[1:], dtype=np.float64) # associate the Glove embedding vector to a that token (word)\n",
    "\n",
    "        tokens = sorted(wordToGlove.keys())\n",
    "        for idx, tok in enumerate(tokens):\n",
    "            kerasIdx = idx + 1  # 0 is reserved for masking in Keras (see above)\n",
    "            wordToIndex[tok] = kerasIdx # associate an index to a token (word)\n",
    "            indexToWord[kerasIdx] = tok # associate a word to a token (word). Note: inverse of dictionary above\n",
    "\n",
    "    return wordToIndex, indexToWord, wordToGlove"
   ]
  },
  {
   "cell_type": "code",
   "execution_count": 87,
   "metadata": {},
   "outputs": [],
   "source": [
    "# Create Pretrained Keras Embedding Layer\n",
    "def createPretrainedEmbeddingLayer(wordToGlove, wordToIndex, inputLength, isTrainable):\n",
    "    vocabLen = len(wordToIndex) + 1  # adding 1 to account for masking\n",
    "    embDim = next(iter(wordToGlove.values())).shape[0]  # works with any glove dimensions (e.g. 50)\n",
    "\n",
    "    print(embDim)\n",
    "    \n",
    "    embeddingMatrix = np.zeros((vocabLen, embDim))  # initialize with zeros\n",
    "    for word, index in wordToIndex.items():\n",
    "        embeddingMatrix[index, :] = wordToGlove[word] # create embedding: word index to Glove word embedding\n",
    "\n",
    "    embeddingLayer = Embedding(vocabLen, embDim, weights=[embeddingMatrix], input_length=inputLength, trainable=isTrainable)\n",
    "    return embeddingLayer\n"
   ]
  },
  {
   "cell_type": "code",
   "execution_count": 88,
   "metadata": {},
   "outputs": [
    {
     "name": "stdout",
     "output_type": "stream",
     "text": [
      "100\n"
     ]
    }
   ],
   "source": [
    "# usage\n",
    "max_length = 4\n",
    "wordToIndex, indexToWord, wordToGlove = readGloveFile(\"glove/glove.6B.100d.txt\")\n",
    "pretrainedEmbeddingLayer = createPretrainedEmbeddingLayer(wordToGlove, wordToIndex, max_length, False)\n",
    "#model = Sequential()\n",
    "#model.add(pretrainedEmbeddingLayer)"
   ]
  },
  {
   "cell_type": "code",
   "execution_count": 89,
   "metadata": {},
   "outputs": [
    {
     "name": "stdout",
     "output_type": "stream",
     "text": [
      "400000\n",
      "385218\n"
     ]
    }
   ],
   "source": [
    "print(len(wordToIndex))\n",
    "print(wordToIndex[\"well\"])"
   ]
  },
  {
   "cell_type": "code",
   "execution_count": 90,
   "metadata": {},
   "outputs": [],
   "source": [
    "# define documents\n",
    "docs = ['Well done!',\n",
    "        'Good work',\n",
    "        'Great effort',\n",
    "        'nice work',\n",
    "        'Excellent!',\n",
    "        'Weak',\n",
    "        'Poor effort!',\n",
    "        'not good',\n",
    "        'poor work',\n",
    "        'Could have done better.']\n",
    "# define class labels\n",
    "labels = array([1,1,1,1,1,0,0,0,0,0])"
   ]
  },
  {
   "cell_type": "code",
   "execution_count": 91,
   "metadata": {},
   "outputs": [],
   "source": [
    "# prepare tokenizer\n",
    "#t = Tokenizer()\n",
    "#t.fit_on_texts(docs)\n",
    "#vocab_size = len(t.word_index) + 1\n",
    "\n",
    "# integer encode the documents\n",
    "#encoded_docs = t.texts_to_sequences(docs)"
   ]
  },
  {
   "cell_type": "code",
   "execution_count": 102,
   "metadata": {},
   "outputs": [
    {
     "name": "stdout",
     "output_type": "stream",
     "text": [
      "[[385218, 127491], [164328, 389836], [166369, 133946], [260760, 389836], [142331], [384383], [288743, 133946], [264550, 164328], [288743, 389836], [110156, 174642, 127491, 74597]]\n"
     ]
    }
   ],
   "source": [
    "encoded_docs = [] #[[6, 2], [3, 1], [7, 4], [8, 1], [9], [10], [5, 4], [11, 3], [5, 1], [12, 13, 2, 14]]\n",
    "\n",
    "tokenizer = RegexpTokenizer(r'\\w+')\n",
    "for doc in docs:\n",
    "    encoded_doc = []\n",
    "    for word in tokenizer.tokenize(doc.lower()):\n",
    "        index = wordToIndex[word]\n",
    "        if index is not None:\n",
    "            encoded_doc.append(index)\n",
    "        else:\n",
    "            encoded_doc.append(0)\n",
    "    encoded_docs.append(encoded_doc)\n",
    "\n",
    "print(encoded_docs)"
   ]
  },
  {
   "cell_type": "code",
   "execution_count": 103,
   "metadata": {},
   "outputs": [
    {
     "name": "stdout",
     "output_type": "stream",
     "text": [
      "[[385218 127491      0      0]\n",
      " [164328 389836      0      0]\n",
      " [166369 133946      0      0]\n",
      " [260760 389836      0      0]\n",
      " [142331      0      0      0]\n",
      " [384383      0      0      0]\n",
      " [288743 133946      0      0]\n",
      " [264550 164328      0      0]\n",
      " [288743 389836      0      0]\n",
      " [110156 174642 127491  74597]]\n"
     ]
    }
   ],
   "source": [
    "# pad documents to a max length of 4 words\n",
    "padded_docs = pad_sequences(encoded_docs, maxlen=max_length, padding='post')\n",
    "print(padded_docs)"
   ]
  },
  {
   "cell_type": "code",
   "execution_count": 104,
   "metadata": {},
   "outputs": [],
   "source": [
    "# load the whole embedding into memory\n",
    "#embeddings_index = dict()\n",
    "#f = open('glove/glove.6B.100d.txt')\n",
    "#for line in f:\n",
    "#    values = line.split()\n",
    "#    word = values[0]\n",
    "#    coefs = asarray(values[1:], dtype='float32')\n",
    "#    embeddings_index[word] = coefs\n",
    "#f.close()\n",
    "#print('Loaded %s word vectors.' % len(embeddings_index))"
   ]
  },
  {
   "cell_type": "code",
   "execution_count": 105,
   "metadata": {},
   "outputs": [],
   "source": [
    "# create a weight matrix for words in training docs\n",
    "#embedding_matrix = zeros((vocab_size, 100))\n",
    "#for word, i in t.word_index.items():\n",
    "#    embedding_vector = embeddings_index.get(word)\n",
    "#    if embedding_vector is not None:\n",
    "#        embedding_matrix[i] = embedding_vector\n",
    "\n",
    "#print(vocab_size)\n",
    "#print(embedding_matrix.shape)\n",
    "#print(embedding_matrix)"
   ]
  },
  {
   "cell_type": "code",
   "execution_count": 106,
   "metadata": {},
   "outputs": [],
   "source": [
    "# define model\n",
    "model = Sequential()\n",
    "#e = Embedding(vocab_size, 100, weights=[embedding_matrix], input_length=4, trainable=False)\n",
    "#model.add(e)\n",
    "model.add(pretrainedEmbeddingLayer)\n",
    "model.add(Flatten())\n",
    "model.add(Dense(1, activation='sigmoid'))"
   ]
  },
  {
   "cell_type": "code",
   "execution_count": 107,
   "metadata": {},
   "outputs": [
    {
     "name": "stdout",
     "output_type": "stream",
     "text": [
      "_________________________________________________________________\n",
      "Layer (type)                 Output Shape              Param #   \n",
      "=================================================================\n",
      "embedding_6 (Embedding)      (None, 4, 100)            40000100  \n",
      "_________________________________________________________________\n",
      "flatten_6 (Flatten)          (None, 400)               0         \n",
      "_________________________________________________________________\n",
      "dense_5 (Dense)              (None, 1)                 401       \n",
      "=================================================================\n",
      "Total params: 40,000,501\n",
      "Trainable params: 401\n",
      "Non-trainable params: 40,000,100\n",
      "_________________________________________________________________\n",
      "None\n"
     ]
    }
   ],
   "source": [
    "# compile the model\n",
    "model.compile(optimizer='adam', loss='binary_crossentropy', metrics=['acc'])\n",
    "# summarize the model\n",
    "print(model.summary())"
   ]
  },
  {
   "cell_type": "code",
   "execution_count": 120,
   "metadata": {},
   "outputs": [
    {
     "name": "stdout",
     "output_type": "stream",
     "text": [
      "Epoch 1/50\n",
      "10/10 [==============================] - 0s 212us/step - loss: 0.1061 - acc: 1.0000\n",
      "Epoch 2/50\n",
      "10/10 [==============================] - 0s 166us/step - loss: 0.1053 - acc: 1.0000\n",
      "Epoch 3/50\n",
      "10/10 [==============================] - 0s 225us/step - loss: 0.1046 - acc: 1.0000\n",
      "Epoch 4/50\n",
      "10/10 [==============================] - 0s 171us/step - loss: 0.1038 - acc: 1.0000\n",
      "Epoch 5/50\n",
      "10/10 [==============================] - 0s 165us/step - loss: 0.1030 - acc: 1.0000\n",
      "Epoch 6/50\n",
      "10/10 [==============================] - 0s 155us/step - loss: 0.1022 - acc: 1.0000\n",
      "Epoch 7/50\n",
      "10/10 [==============================] - 0s 202us/step - loss: 0.1015 - acc: 1.0000\n",
      "Epoch 8/50\n",
      "10/10 [==============================] - 0s 179us/step - loss: 0.1008 - acc: 1.0000\n",
      "Epoch 9/50\n",
      "10/10 [==============================] - 0s 177us/step - loss: 0.1000 - acc: 1.0000\n",
      "Epoch 10/50\n",
      "10/10 [==============================] - 0s 199us/step - loss: 0.0993 - acc: 1.0000\n",
      "Epoch 11/50\n",
      "10/10 [==============================] - 0s 160us/step - loss: 0.0986 - acc: 1.0000\n",
      "Epoch 12/50\n",
      "10/10 [==============================] - 0s 197us/step - loss: 0.0979 - acc: 1.0000\n",
      "Epoch 13/50\n",
      "10/10 [==============================] - 0s 130us/step - loss: 0.0972 - acc: 1.0000\n",
      "Epoch 14/50\n",
      "10/10 [==============================] - 0s 167us/step - loss: 0.0965 - acc: 1.0000\n",
      "Epoch 15/50\n",
      "10/10 [==============================] - 0s 183us/step - loss: 0.0958 - acc: 1.0000\n",
      "Epoch 16/50\n",
      "10/10 [==============================] - 0s 177us/step - loss: 0.0951 - acc: 1.0000\n",
      "Epoch 17/50\n",
      "10/10 [==============================] - 0s 161us/step - loss: 0.0944 - acc: 1.0000\n",
      "Epoch 18/50\n",
      "10/10 [==============================] - 0s 163us/step - loss: 0.0938 - acc: 1.0000\n",
      "Epoch 19/50\n",
      "10/10 [==============================] - 0s 169us/step - loss: 0.0931 - acc: 1.0000\n",
      "Epoch 20/50\n",
      "10/10 [==============================] - 0s 185us/step - loss: 0.0925 - acc: 1.0000\n",
      "Epoch 21/50\n",
      "10/10 [==============================] - 0s 183us/step - loss: 0.0918 - acc: 1.0000\n",
      "Epoch 22/50\n",
      "10/10 [==============================] - 0s 161us/step - loss: 0.0912 - acc: 1.0000\n",
      "Epoch 23/50\n",
      "10/10 [==============================] - 0s 166us/step - loss: 0.0906 - acc: 1.0000\n",
      "Epoch 24/50\n",
      "10/10 [==============================] - 0s 200us/step - loss: 0.0899 - acc: 1.0000\n",
      "Epoch 25/50\n",
      "10/10 [==============================] - 0s 178us/step - loss: 0.0893 - acc: 1.0000\n",
      "Epoch 26/50\n",
      "10/10 [==============================] - 0s 193us/step - loss: 0.0887 - acc: 1.0000\n",
      "Epoch 27/50\n",
      "10/10 [==============================] - 0s 154us/step - loss: 0.0881 - acc: 1.0000\n",
      "Epoch 28/50\n",
      "10/10 [==============================] - 0s 175us/step - loss: 0.0875 - acc: 1.0000\n",
      "Epoch 29/50\n",
      "10/10 [==============================] - 0s 155us/step - loss: 0.0869 - acc: 1.0000\n",
      "Epoch 30/50\n",
      "10/10 [==============================] - 0s 207us/step - loss: 0.0863 - acc: 1.0000\n",
      "Epoch 31/50\n",
      "10/10 [==============================] - 0s 165us/step - loss: 0.0858 - acc: 1.0000\n",
      "Epoch 32/50\n",
      "10/10 [==============================] - 0s 171us/step - loss: 0.0852 - acc: 1.0000\n",
      "Epoch 33/50\n",
      "10/10 [==============================] - 0s 159us/step - loss: 0.0846 - acc: 1.0000\n",
      "Epoch 34/50\n",
      "10/10 [==============================] - 0s 159us/step - loss: 0.0841 - acc: 1.0000\n",
      "Epoch 35/50\n",
      "10/10 [==============================] - 0s 187us/step - loss: 0.0835 - acc: 1.0000\n",
      "Epoch 36/50\n",
      "10/10 [==============================] - 0s 184us/step - loss: 0.0830 - acc: 1.0000\n",
      "Epoch 37/50\n",
      "10/10 [==============================] - 0s 167us/step - loss: 0.0824 - acc: 1.0000\n",
      "Epoch 38/50\n",
      "10/10 [==============================] - 0s 171us/step - loss: 0.0819 - acc: 1.0000\n",
      "Epoch 39/50\n",
      "10/10 [==============================] - 0s 176us/step - loss: 0.0814 - acc: 1.0000\n",
      "Epoch 40/50\n",
      "10/10 [==============================] - 0s 226us/step - loss: 0.0808 - acc: 1.0000\n",
      "Epoch 41/50\n",
      "10/10 [==============================] - 0s 192us/step - loss: 0.0803 - acc: 1.0000\n",
      "Epoch 42/50\n",
      "10/10 [==============================] - 0s 167us/step - loss: 0.0798 - acc: 1.0000\n",
      "Epoch 43/50\n",
      "10/10 [==============================] - 0s 168us/step - loss: 0.0793 - acc: 1.0000\n",
      "Epoch 44/50\n",
      "10/10 [==============================] - 0s 199us/step - loss: 0.0788 - acc: 1.0000\n",
      "Epoch 45/50\n",
      "10/10 [==============================] - 0s 191us/step - loss: 0.0783 - acc: 1.0000\n",
      "Epoch 46/50\n",
      "10/10 [==============================] - 0s 196us/step - loss: 0.0778 - acc: 1.0000\n",
      "Epoch 47/50\n",
      "10/10 [==============================] - 0s 173us/step - loss: 0.0773 - acc: 1.0000\n",
      "Epoch 48/50\n",
      "10/10 [==============================] - 0s 169us/step - loss: 0.0768 - acc: 1.0000\n",
      "Epoch 49/50\n",
      "10/10 [==============================] - 0s 188us/step - loss: 0.0763 - acc: 1.0000\n",
      "Epoch 50/50\n",
      "10/10 [==============================] - 0s 217us/step - loss: 0.0759 - acc: 1.0000\n"
     ]
    },
    {
     "data": {
      "text/plain": [
       "<keras.callbacks.History at 0x122fa0690>"
      ]
     },
     "execution_count": 120,
     "metadata": {},
     "output_type": "execute_result"
    }
   ],
   "source": [
    "# fit the model\n",
    "model.fit(padded_docs, labels, epochs=50, verbose=1)"
   ]
  },
  {
   "cell_type": "code",
   "execution_count": 121,
   "metadata": {},
   "outputs": [
    {
     "name": "stdout",
     "output_type": "stream",
     "text": [
      "Accuracy: 100.000000\n"
     ]
    }
   ],
   "source": [
    "# evaluate the model\n",
    "loss, accuracy = model.evaluate(padded_docs, labels, verbose=0)\n",
    "print('Accuracy: %f' % (accuracy*100))"
   ]
  },
  {
   "cell_type": "code",
   "execution_count": 122,
   "metadata": {},
   "outputs": [
    {
     "name": "stdout",
     "output_type": "stream",
     "text": [
      "_________________________________________________________________\n",
      "Layer (type)                 Output Shape              Param #   \n",
      "=================================================================\n",
      "embedding_6 (Embedding)      (None, 4, 100)            40000100  \n",
      "_________________________________________________________________\n",
      "flatten_6 (Flatten)          (None, 400)               0         \n",
      "_________________________________________________________________\n",
      "dense_5 (Dense)              (None, 1)                 401       \n",
      "=================================================================\n",
      "Total params: 40,000,501\n",
      "Trainable params: 401\n",
      "Non-trainable params: 40,000,100\n",
      "_________________________________________________________________\n"
     ]
    }
   ],
   "source": [
    "model.summary()"
   ]
  },
  {
   "cell_type": "code",
   "execution_count": 126,
   "metadata": {},
   "outputs": [
    {
     "name": "stdout",
     "output_type": "stream",
     "text": [
      "[[0.9133801 ]\n",
      " [0.91775215]\n",
      " [0.9425593 ]\n",
      " [0.9475847 ]\n",
      " [0.89902073]\n",
      " [0.07479657]\n",
      " [0.05737483]\n",
      " [0.08264645]\n",
      " [0.1157409 ]\n",
      " [0.01185029]]\n",
      "['Well done!', 'Good work', 'Great effort', 'nice work', 'Excellent!', 'Weak', 'Poor effort!', 'not good', 'poor work', 'Could have done better.']\n",
      "[1 1 1 1 1 0 0 0 0 0]\n"
     ]
    }
   ],
   "source": [
    "# test prediction\n",
    "#test = array([[ 6,  2,  0,  0],\n",
    "#              [ 3,  1,  0,  0],\n",
    "#              [ 7,  4,  0,  0],\n",
    "#              [ 8,  1,  0,  0],\n",
    "#              [ 9,  0,  0,  0],\n",
    "#              [10,  0,  0,  0],\n",
    "#              [ 5,  4,  0,  0],\n",
    "#              [11,  3,  0,  0],\n",
    "#              [ 5,  1,  0,  0],\n",
    "#              [12, 13,  2, 14]])\n",
    "\n",
    "test = array([[385218, 127491,      0,      0],\n",
    "              [164328, 389836,      0,      0],\n",
    "              [166369, 133946,      0,      0],\n",
    "              [260760, 389836,      0,      0],\n",
    "              [142331,      0,      0,      0],\n",
    "              [384383,      0,      0,      0],\n",
    "              [288743, 133946,      0,      0],\n",
    "              [264550, 164328,      0,      0],\n",
    "              [288743, 389836,      0,      0],\n",
    "              [110156, 174642, 127491,  74597]])\n",
    "\n",
    "\n",
    "y_pred = model.predict(test)\n",
    "print(y_pred)\n",
    "print(docs)\n",
    "print(labels)"
   ]
  },
  {
   "cell_type": "code",
   "execution_count": 112,
   "metadata": {},
   "outputs": [],
   "source": [
    "# save model\n",
    "model.save('model.h5')"
   ]
  },
  {
   "cell_type": "code",
   "execution_count": 113,
   "metadata": {},
   "outputs": [
    {
     "name": "stdout",
     "output_type": "stream",
     "text": [
      "0 : embedding_6_input, <keras.engine.topology.InputLayer object at 0x11f99c890>\n",
      "1 : embedding_6, <keras.layers.embeddings.Embedding object at 0x123e711d0>\n",
      "2 : flatten_6, <keras.layers.core.Flatten object at 0x11f99c610>\n",
      "3 : dense_5, <keras.layers.core.Dense object at 0x11f99c810>\n",
      "4 : dense_5__activation__, <keras.layers.core.Activation object at 0x11f99c990>\n"
     ]
    }
   ],
   "source": [
    "# export coreml\n",
    "import coremltools\n",
    "coreml_model = coremltools.converters.keras.convert(model)\n",
    "coreml_model.save('model.mlmodel')"
   ]
  },
  {
   "cell_type": "code",
   "execution_count": 114,
   "metadata": {},
   "outputs": [
    {
     "data": {
      "text/plain": [
       "input {\n",
       "  name: \"input1\"\n",
       "  type {\n",
       "    multiArrayType {\n",
       "      shape: 1\n",
       "      dataType: DOUBLE\n",
       "    }\n",
       "  }\n",
       "}\n",
       "output {\n",
       "  name: \"output1\"\n",
       "  type {\n",
       "    multiArrayType {\n",
       "      shape: 1\n",
       "      dataType: DOUBLE\n",
       "    }\n",
       "  }\n",
       "}"
      ]
     },
     "execution_count": 114,
     "metadata": {},
     "output_type": "execute_result"
    }
   ],
   "source": [
    "# dump coreml\n",
    "coreml_model"
   ]
  },
  {
   "cell_type": "code",
   "execution_count": 115,
   "metadata": {},
   "outputs": [],
   "source": [
    "# Make predictions\n",
    "predictions = coreml_model.predict({'input1': [[[6.0]],  [[2.0]],  [[0.0]],  [[0.0]]] })"
   ]
  },
  {
   "cell_type": "code",
   "execution_count": 116,
   "metadata": {},
   "outputs": [
    {
     "name": "stdout",
     "output_type": "stream",
     "text": [
      "{u'output1': array([0.45214844])}\n"
     ]
    }
   ],
   "source": [
    "print(predictions)"
   ]
  },
  {
   "cell_type": "code",
   "execution_count": null,
   "metadata": {},
   "outputs": [],
   "source": []
  }
 ],
 "metadata": {
  "kernelspec": {
   "display_name": "Python 2",
   "language": "python",
   "name": "python2"
  },
  "language_info": {
   "codemirror_mode": {
    "name": "ipython",
    "version": 2
   },
   "file_extension": ".py",
   "mimetype": "text/x-python",
   "name": "python",
   "nbconvert_exporter": "python",
   "pygments_lexer": "ipython2",
   "version": "2.7.14"
  }
 },
 "nbformat": 4,
 "nbformat_minor": 2
}
