{
 "cells": [
  {
   "cell_type": "code",
   "execution_count": 24,
   "metadata": {},
   "outputs": [],
   "source": [
    "from numpy import array\n",
    "from numpy import asarray\n",
    "from numpy import zeros\n",
    "import numpy as np\n",
    "from keras.preprocessing.text import Tokenizer\n",
    "from keras.preprocessing.sequence import pad_sequences\n",
    "from keras.models import Sequential\n",
    "from keras.layers import Dense\n",
    "from keras.layers import Flatten\n",
    "from keras.layers import Embedding"
   ]
  },
  {
   "cell_type": "code",
   "execution_count": 25,
   "metadata": {},
   "outputs": [],
   "source": [
    "# Prepare Glove File\n",
    "def readGloveFile(gloveFile):\n",
    "    with open(gloveFile, 'r') as f:\n",
    "        wordToGlove = {}  # map from a token (word) to a Glove embedding vector\n",
    "        wordToIndex = {}  # map from a token to an index\n",
    "        indexToWord = {}  # map from an index to a token \n",
    "\n",
    "        for line in f:\n",
    "            record = line.strip().split()\n",
    "            token = record[0] # take the token (word) from the text line\n",
    "            wordToGlove[token] = np.array(record[1:], dtype=np.float64) # associate the Glove embedding vector to a that token (word)\n",
    "\n",
    "        tokens = sorted(wordToGlove.keys())\n",
    "        for idx, tok in enumerate(tokens):\n",
    "            kerasIdx = idx + 1  # 0 is reserved for masking in Keras (see above)\n",
    "            wordToIndex[tok] = kerasIdx # associate an index to a token (word)\n",
    "            indexToWord[kerasIdx] = tok # associate a word to a token (word). Note: inverse of dictionary above\n",
    "\n",
    "    return wordToIndex, indexToWord, wordToGlove"
   ]
  },
  {
   "cell_type": "code",
   "execution_count": 26,
   "metadata": {},
   "outputs": [],
   "source": [
    "# Create Pretrained Keras Embedding Layer\n",
    "def createPretrainedEmbeddingLayer(wordToGlove, wordToIndex, isTrainable):\n",
    "    vocabLen = len(wordToIndex) + 1  # adding 1 to account for masking\n",
    "    embDim = next(iter(wordToGlove.values())).shape[0]  # works with any glove dimensions (e.g. 50)\n",
    "\n",
    "    embeddingMatrix = np.zeros((vocabLen, embDim))  # initialize with zeros\n",
    "    for word, index in wordToIndex.items():\n",
    "        embeddingMatrix[index, :] = wordToGlove[word] # create embedding: word index to Glove word embedding\n",
    "\n",
    "    embeddingLayer = Embedding(vocabLen, embDim, weights=[embeddingMatrix], trainable=isTrainable)\n",
    "    return embeddingLayer\n"
   ]
  },
  {
   "cell_type": "code",
   "execution_count": 27,
   "metadata": {},
   "outputs": [],
   "source": [
    "# usage\n",
    "wordToIndex, indexToWord, wordToGlove = readGloveFile(\"glove/glove.6B.100d.txt\")\n",
    "pretrainedEmbeddingLayer = createPretrainedEmbeddingLayer(wordToGlove, wordToIndex, False)\n",
    "#model = Sequential()\n",
    "#model.add(pretrainedEmbeddingLayer)"
   ]
  },
  {
   "cell_type": "code",
   "execution_count": 35,
   "metadata": {},
   "outputs": [
    {
     "name": "stdout",
     "output_type": "stream",
     "text": [
      "400000\n",
      "385218\n"
     ]
    }
   ],
   "source": [
    "print(len(wordToIndex))\n",
    "print(wordToIndex[\"well\"])"
   ]
  },
  {
   "cell_type": "code",
   "execution_count": 2,
   "metadata": {},
   "outputs": [],
   "source": [
    "# define documents\n",
    "docs = ['Well done!',\n",
    "        'Good work',\n",
    "        'Great effort',\n",
    "        'nice work',\n",
    "        'Excellent!',\n",
    "        'Weak',\n",
    "        'Poor effort!',\n",
    "        'not good',\n",
    "        'poor work',\n",
    "        'Could have done better.']\n",
    "# define class labels\n",
    "labels = array([1,1,1,1,1,0,0,0,0,0])"
   ]
  },
  {
   "cell_type": "code",
   "execution_count": 3,
   "metadata": {},
   "outputs": [],
   "source": [
    "# prepare tokenizer\n",
    "t = Tokenizer()\n",
    "t.fit_on_texts(docs)\n",
    "vocab_size = len(t.word_index) + 1"
   ]
  },
  {
   "cell_type": "code",
   "execution_count": 4,
   "metadata": {},
   "outputs": [
    {
     "name": "stdout",
     "output_type": "stream",
     "text": [
      "[[6, 2], [3, 1], [7, 4], [8, 1], [9], [10], [5, 4], [11, 3], [5, 1], [12, 13, 2, 14]]\n"
     ]
    }
   ],
   "source": [
    "# integer encode the documents\n",
    "encoded_docs = t.texts_to_sequences(docs)\n",
    "print(encoded_docs)"
   ]
  },
  {
   "cell_type": "code",
   "execution_count": 5,
   "metadata": {},
   "outputs": [
    {
     "name": "stdout",
     "output_type": "stream",
     "text": [
      "[[ 6  2  0  0]\n",
      " [ 3  1  0  0]\n",
      " [ 7  4  0  0]\n",
      " [ 8  1  0  0]\n",
      " [ 9  0  0  0]\n",
      " [10  0  0  0]\n",
      " [ 5  4  0  0]\n",
      " [11  3  0  0]\n",
      " [ 5  1  0  0]\n",
      " [12 13  2 14]]\n"
     ]
    }
   ],
   "source": [
    "# pad documents to a max length of 4 words\n",
    "max_length = 4\n",
    "padded_docs = pad_sequences(encoded_docs, maxlen=max_length, padding='post')\n",
    "print(padded_docs)"
   ]
  },
  {
   "cell_type": "code",
   "execution_count": 6,
   "metadata": {},
   "outputs": [
    {
     "name": "stdout",
     "output_type": "stream",
     "text": [
      "Loaded 400000 word vectors.\n"
     ]
    }
   ],
   "source": [
    "# load the whole embedding into memory\n",
    "embeddings_index = dict()\n",
    "f = open('glove/glove.6B.100d.txt')\n",
    "for line in f:\n",
    "\tvalues = line.split()\n",
    "\tword = values[0]\n",
    "\tcoefs = asarray(values[1:], dtype='float32')\n",
    "\tembeddings_index[word] = coefs\n",
    "f.close()\n",
    "print('Loaded %s word vectors.' % len(embeddings_index))"
   ]
  },
  {
   "cell_type": "code",
   "execution_count": 7,
   "metadata": {},
   "outputs": [],
   "source": [
    "# create a weight matrix for words in training docs\n",
    "embedding_matrix = zeros((vocab_size, 100))\n",
    "for word, i in t.word_index.items():\n",
    "\tembedding_vector = embeddings_index.get(word)\n",
    "\tif embedding_vector is not None:\n",
    "\t\tembedding_matrix[i] = embedding_vector"
   ]
  },
  {
   "cell_type": "code",
   "execution_count": 8,
   "metadata": {},
   "outputs": [
    {
     "name": "stdout",
     "output_type": "stream",
     "text": [
      "15\n",
      "(15, 100)\n",
      "[[ 0.          0.          0.         ...  0.          0.\n",
      "   0.        ]\n",
      " [-0.11619     0.45447001 -0.69216001 ... -0.54737002  0.48822001\n",
      "   0.32246   ]\n",
      " [-0.2978      0.31147    -0.14937    ... -0.22709    -0.029261\n",
      "   0.4585    ]\n",
      " ...\n",
      " [ 0.05869     0.40272999  0.38633999 ... -0.35973999  0.43718001\n",
      "   0.10121   ]\n",
      " [ 0.15711001  0.65605998  0.0021149  ... -0.60614997  0.71004999\n",
      "   0.41468999]\n",
      " [-0.047543    0.51914001  0.34283999 ... -0.26859     0.48664999\n",
      "   0.55609   ]]\n"
     ]
    }
   ],
   "source": [
    "print(vocab_size)\n",
    "print(embedding_matrix.shape)\n",
    "print(embedding_matrix)"
   ]
  },
  {
   "cell_type": "code",
   "execution_count": 9,
   "metadata": {},
   "outputs": [],
   "source": [
    "# define model\n",
    "model = Sequential()\n",
    "e = Embedding(vocab_size, 100, weights=[embedding_matrix], input_length=4, trainable=False)\n",
    "model.add(e)\n",
    "model.add(Flatten())\n",
    "model.add(Dense(1, activation='sigmoid'))"
   ]
  },
  {
   "cell_type": "code",
   "execution_count": 10,
   "metadata": {},
   "outputs": [
    {
     "name": "stdout",
     "output_type": "stream",
     "text": [
      "_________________________________________________________________\n",
      "Layer (type)                 Output Shape              Param #   \n",
      "=================================================================\n",
      "embedding_1 (Embedding)      (None, 4, 100)            1500      \n",
      "_________________________________________________________________\n",
      "flatten_1 (Flatten)          (None, 400)               0         \n",
      "_________________________________________________________________\n",
      "dense_1 (Dense)              (None, 1)                 401       \n",
      "=================================================================\n",
      "Total params: 1,901\n",
      "Trainable params: 401\n",
      "Non-trainable params: 1,500\n",
      "_________________________________________________________________\n",
      "None\n"
     ]
    }
   ],
   "source": [
    "# compile the model\n",
    "model.compile(optimizer='adam', loss='binary_crossentropy', metrics=['acc'])\n",
    "# summarize the model\n",
    "print(model.summary())"
   ]
  },
  {
   "cell_type": "code",
   "execution_count": 11,
   "metadata": {},
   "outputs": [
    {
     "name": "stdout",
     "output_type": "stream",
     "text": [
      "Epoch 1/50\n",
      "10/10 [==============================] - 0s 10ms/step - loss: 0.7612 - acc: 0.4000\n",
      "Epoch 2/50\n",
      "10/10 [==============================] - 0s 205us/step - loss: 0.7500 - acc: 0.4000\n",
      "Epoch 3/50\n",
      "10/10 [==============================] - 0s 241us/step - loss: 0.7391 - acc: 0.4000\n",
      "Epoch 4/50\n",
      "10/10 [==============================] - 0s 204us/step - loss: 0.7284 - acc: 0.4000\n",
      "Epoch 5/50\n",
      "10/10 [==============================] - 0s 210us/step - loss: 0.7179 - acc: 0.5000\n",
      "Epoch 6/50\n",
      "10/10 [==============================] - 0s 237us/step - loss: 0.7076 - acc: 0.5000\n",
      "Epoch 7/50\n",
      "10/10 [==============================] - 0s 179us/step - loss: 0.6976 - acc: 0.5000\n",
      "Epoch 8/50\n",
      "10/10 [==============================] - 0s 167us/step - loss: 0.6880 - acc: 0.5000\n",
      "Epoch 9/50\n",
      "10/10 [==============================] - 0s 171us/step - loss: 0.6783 - acc: 0.5000\n",
      "Epoch 10/50\n",
      "10/10 [==============================] - 0s 178us/step - loss: 0.6689 - acc: 0.5000\n",
      "Epoch 11/50\n",
      "10/10 [==============================] - 0s 190us/step - loss: 0.6596 - acc: 0.6000\n",
      "Epoch 12/50\n",
      "10/10 [==============================] - 0s 159us/step - loss: 0.6506 - acc: 0.6000\n",
      "Epoch 13/50\n",
      "10/10 [==============================] - 0s 160us/step - loss: 0.6416 - acc: 0.6000\n",
      "Epoch 14/50\n",
      "10/10 [==============================] - 0s 184us/step - loss: 0.6329 - acc: 0.6000\n",
      "Epoch 15/50\n",
      "10/10 [==============================] - 0s 148us/step - loss: 0.6243 - acc: 0.6000\n",
      "Epoch 16/50\n",
      "10/10 [==============================] - 0s 162us/step - loss: 0.6158 - acc: 0.7000\n",
      "Epoch 17/50\n",
      "10/10 [==============================] - 0s 147us/step - loss: 0.6075 - acc: 0.7000\n",
      "Epoch 18/50\n",
      "10/10 [==============================] - 0s 160us/step - loss: 0.5994 - acc: 0.7000\n",
      "Epoch 19/50\n",
      "10/10 [==============================] - 0s 184us/step - loss: 0.5914 - acc: 0.7000\n",
      "Epoch 20/50\n",
      "10/10 [==============================] - 0s 154us/step - loss: 0.5835 - acc: 0.7000\n",
      "Epoch 21/50\n",
      "10/10 [==============================] - 0s 159us/step - loss: 0.5758 - acc: 0.7000\n",
      "Epoch 22/50\n",
      "10/10 [==============================] - 0s 163us/step - loss: 0.5682 - acc: 0.7000\n",
      "Epoch 23/50\n",
      "10/10 [==============================] - 0s 171us/step - loss: 0.5608 - acc: 0.8000\n",
      "Epoch 24/50\n",
      "10/10 [==============================] - 0s 164us/step - loss: 0.5534 - acc: 0.8000\n",
      "Epoch 25/50\n",
      "10/10 [==============================] - 0s 200us/step - loss: 0.5462 - acc: 0.8000\n",
      "Epoch 26/50\n",
      "10/10 [==============================] - 0s 173us/step - loss: 0.5391 - acc: 0.8000\n",
      "Epoch 27/50\n",
      "10/10 [==============================] - 0s 168us/step - loss: 0.5321 - acc: 0.8000\n",
      "Epoch 28/50\n",
      "10/10 [==============================] - 0s 252us/step - loss: 0.5252 - acc: 0.8000\n",
      "Epoch 29/50\n",
      "10/10 [==============================] - 0s 186us/step - loss: 0.5185 - acc: 0.8000\n",
      "Epoch 30/50\n",
      "10/10 [==============================] - 0s 172us/step - loss: 0.5118 - acc: 0.8000\n",
      "Epoch 31/50\n",
      "10/10 [==============================] - 0s 184us/step - loss: 0.5053 - acc: 0.9000\n",
      "Epoch 32/50\n",
      "10/10 [==============================] - 0s 161us/step - loss: 0.4989 - acc: 0.9000\n",
      "Epoch 33/50\n",
      "10/10 [==============================] - 0s 146us/step - loss: 0.4926 - acc: 0.9000\n",
      "Epoch 34/50\n",
      "10/10 [==============================] - 0s 146us/step - loss: 0.4863 - acc: 0.9000\n",
      "Epoch 35/50\n",
      "10/10 [==============================] - 0s 149us/step - loss: 0.4802 - acc: 0.9000\n",
      "Epoch 36/50\n",
      "10/10 [==============================] - 0s 146us/step - loss: 0.4742 - acc: 0.9000\n",
      "Epoch 37/50\n",
      "10/10 [==============================] - 0s 160us/step - loss: 0.4682 - acc: 0.9000\n",
      "Epoch 38/50\n",
      "10/10 [==============================] - 0s 174us/step - loss: 0.4624 - acc: 0.9000\n",
      "Epoch 39/50\n",
      "10/10 [==============================] - 0s 151us/step - loss: 0.4567 - acc: 0.9000\n",
      "Epoch 40/50\n",
      "10/10 [==============================] - 0s 167us/step - loss: 0.4510 - acc: 0.9000\n",
      "Epoch 41/50\n",
      "10/10 [==============================] - 0s 156us/step - loss: 0.4454 - acc: 0.9000\n",
      "Epoch 42/50\n",
      "10/10 [==============================] - 0s 176us/step - loss: 0.4399 - acc: 0.9000\n",
      "Epoch 43/50\n",
      "10/10 [==============================] - 0s 175us/step - loss: 0.4346 - acc: 0.9000\n",
      "Epoch 44/50\n",
      "10/10 [==============================] - 0s 139us/step - loss: 0.4292 - acc: 0.9000\n",
      "Epoch 45/50\n",
      "10/10 [==============================] - 0s 148us/step - loss: 0.4240 - acc: 0.9000\n",
      "Epoch 46/50\n",
      "10/10 [==============================] - 0s 165us/step - loss: 0.4189 - acc: 0.9000\n",
      "Epoch 47/50\n",
      "10/10 [==============================] - 0s 146us/step - loss: 0.4138 - acc: 0.9000\n",
      "Epoch 48/50\n",
      "10/10 [==============================] - 0s 159us/step - loss: 0.4088 - acc: 1.0000\n",
      "Epoch 49/50\n",
      "10/10 [==============================] - 0s 136us/step - loss: 0.4039 - acc: 1.0000\n",
      "Epoch 50/50\n",
      "10/10 [==============================] - 0s 153us/step - loss: 0.3990 - acc: 1.0000\n"
     ]
    },
    {
     "data": {
      "text/plain": [
       "<keras.callbacks.History at 0x107947ed0>"
      ]
     },
     "execution_count": 11,
     "metadata": {},
     "output_type": "execute_result"
    }
   ],
   "source": [
    "# fit the model\n",
    "model.fit(padded_docs, labels, epochs=50, verbose=1)"
   ]
  },
  {
   "cell_type": "code",
   "execution_count": 12,
   "metadata": {},
   "outputs": [
    {
     "name": "stdout",
     "output_type": "stream",
     "text": [
      "Accuracy: 100.000000\n"
     ]
    }
   ],
   "source": [
    "# evaluate the model\n",
    "loss, accuracy = model.evaluate(padded_docs, labels, verbose=0)\n",
    "print('Accuracy: %f' % (accuracy*100))"
   ]
  },
  {
   "cell_type": "code",
   "execution_count": 13,
   "metadata": {},
   "outputs": [
    {
     "name": "stdout",
     "output_type": "stream",
     "text": [
      "_________________________________________________________________\n",
      "Layer (type)                 Output Shape              Param #   \n",
      "=================================================================\n",
      "embedding_1 (Embedding)      (None, 4, 100)            1500      \n",
      "_________________________________________________________________\n",
      "flatten_1 (Flatten)          (None, 400)               0         \n",
      "_________________________________________________________________\n",
      "dense_1 (Dense)              (None, 1)                 401       \n",
      "=================================================================\n",
      "Total params: 1,901\n",
      "Trainable params: 401\n",
      "Non-trainable params: 1,500\n",
      "_________________________________________________________________\n"
     ]
    }
   ],
   "source": [
    "model.summary()"
   ]
  },
  {
   "cell_type": "code",
   "execution_count": 14,
   "metadata": {},
   "outputs": [
    {
     "name": "stdout",
     "output_type": "stream",
     "text": [
      "[[0.6227683 ]\n",
      " [0.70504725]\n",
      " [0.6970315 ]\n",
      " [0.72804064]\n",
      " [0.65190464]\n",
      " [0.39854982]\n",
      " [0.3523373 ]\n",
      " [0.3189102 ]\n",
      " [0.4870337 ]\n",
      " [0.01890703]]\n",
      "['Well done!', 'Good work', 'Great effort', 'nice work', 'Excellent!', 'Weak', 'Poor effort!', 'not good', 'poor work', 'Could have done better.']\n",
      "[1 1 1 1 1 0 0 0 0 0]\n"
     ]
    }
   ],
   "source": [
    "# test prediction\n",
    "test = array([[ 6,  2,  0,  0],\n",
    "              [ 3,  1,  0,  0],\n",
    "              [ 7,  4,  0,  0],\n",
    "              [ 8,  1,  0,  0],\n",
    "              [ 9,  0,  0,  0],\n",
    "              [10,  0,  0,  0],\n",
    "              [ 5,  4,  0,  0],\n",
    "              [11,  3,  0,  0],\n",
    "              [ 5,  1,  0,  0],\n",
    "              [12, 13,  2, 14]])\n",
    "\n",
    "y_pred = model.predict(test)\n",
    "print(y_pred)\n",
    "print(docs)\n",
    "print(labels)"
   ]
  },
  {
   "cell_type": "code",
   "execution_count": 15,
   "metadata": {},
   "outputs": [],
   "source": [
    "# save model\n",
    "model.save('model.h5')"
   ]
  },
  {
   "cell_type": "code",
   "execution_count": 16,
   "metadata": {},
   "outputs": [
    {
     "name": "stderr",
     "output_type": "stream",
     "text": [
      "WARNING:root:Keras version 2.1.5 detected. Last version known to be fully compatible of Keras is 2.1.3 .\n",
      "WARNING:root:TensorFlow version 1.6.0 detected. Last version known to be fully compatible is 1.5.0 .\n"
     ]
    },
    {
     "name": "stdout",
     "output_type": "stream",
     "text": [
      "0 : embedding_1_input, <keras.engine.topology.InputLayer object at 0x11bec3a50>\n",
      "1 : embedding_1, <keras.layers.embeddings.Embedding object at 0x11bec3810>\n",
      "2 : flatten_1, <keras.layers.core.Flatten object at 0x107973210>\n",
      "3 : dense_1, <keras.layers.core.Dense object at 0x1065bb050>\n",
      "4 : dense_1__activation__, <keras.layers.core.Activation object at 0x122361390>\n"
     ]
    }
   ],
   "source": [
    "# export coreml\n",
    "import coremltools\n",
    "coreml_model = coremltools.converters.keras.convert(model)\n",
    "coreml_model.save('model.mlmodel')"
   ]
  },
  {
   "cell_type": "code",
   "execution_count": 17,
   "metadata": {},
   "outputs": [
    {
     "data": {
      "text/plain": [
       "input {\n",
       "  name: \"input1\"\n",
       "  type {\n",
       "    multiArrayType {\n",
       "      shape: 1\n",
       "      dataType: DOUBLE\n",
       "    }\n",
       "  }\n",
       "}\n",
       "output {\n",
       "  name: \"output1\"\n",
       "  type {\n",
       "    multiArrayType {\n",
       "      shape: 1\n",
       "      dataType: DOUBLE\n",
       "    }\n",
       "  }\n",
       "}"
      ]
     },
     "execution_count": 17,
     "metadata": {},
     "output_type": "execute_result"
    }
   ],
   "source": [
    "# dump coreml\n",
    "coreml_model"
   ]
  },
  {
   "cell_type": "code",
   "execution_count": 18,
   "metadata": {},
   "outputs": [],
   "source": [
    "# Make predictions\n",
    "predictions = coreml_model.predict({'input1': [[[6.0]],  [[2.0]],  [[0.0]],  [[0.0]]] })"
   ]
  },
  {
   "cell_type": "code",
   "execution_count": 19,
   "metadata": {},
   "outputs": [
    {
     "name": "stdout",
     "output_type": "stream",
     "text": [
      "{u'output1': array([0.62255859])}\n"
     ]
    }
   ],
   "source": [
    "print(predictions)"
   ]
  }
 ],
 "metadata": {
  "kernelspec": {
   "display_name": "Python 2",
   "language": "python",
   "name": "python2"
  },
  "language_info": {
   "codemirror_mode": {
    "name": "ipython",
    "version": 2
   },
   "file_extension": ".py",
   "mimetype": "text/x-python",
   "name": "python",
   "nbconvert_exporter": "python",
   "pygments_lexer": "ipython2",
   "version": "2.7.14"
  }
 },
 "nbformat": 4,
 "nbformat_minor": 2
}
